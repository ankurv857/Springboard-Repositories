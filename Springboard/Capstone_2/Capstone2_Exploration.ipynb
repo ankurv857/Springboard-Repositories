{
 "cells": [
  {
   "cell_type": "code",
   "execution_count": 131,
   "metadata": {
    "collapsed": true
   },
   "outputs": [],
   "source": [
    "import pandas as pd\n",
    "import numpy as np\n",
    "import matplotlib.pyplot as plt\n",
    "import matplotlib.ticker as mtick\n",
    "from datetime import datetime\n",
    "pd.set_option('display.max_rows', 1000)\n",
    "pd.set_option('display.max_columns', None)\n",
    "pd.set_option('display.max_rows', None)\n",
    "\n",
    "\n",
    "train = pd.read_csv(\"train.csv\")\n",
    "campaign_data = pd.read_csv('campaign_data.csv')"
   ]
  },
  {
   "cell_type": "code",
   "execution_count": 132,
   "metadata": {},
   "outputs": [
    {
     "data": {
      "text/plain": [
       "(1023191, 6)"
      ]
     },
     "execution_count": 132,
     "metadata": {},
     "output_type": "execute_result"
    }
   ],
   "source": [
    "train.shape"
   ]
  },
  {
   "cell_type": "markdown",
   "metadata": {},
   "source": [
    "Our training data consists of about one million emails sent to users.  Each email has a unique identifier, the user id of the person receiving the email, the send date, and whether they opened the email and/or clicked the link inside the email."
   ]
  },
  {
   "cell_type": "markdown",
   "metadata": {},
   "source": [
    "# Adding features"
   ]
  },
  {
   "cell_type": "code",
   "execution_count": 133,
   "metadata": {},
   "outputs": [
    {
     "data": {
      "text/html": [
       "<div>\n",
       "<style>\n",
       "    .dataframe thead tr:only-child th {\n",
       "        text-align: right;\n",
       "    }\n",
       "\n",
       "    .dataframe thead th {\n",
       "        text-align: left;\n",
       "    }\n",
       "\n",
       "    .dataframe tbody tr th {\n",
       "        vertical-align: top;\n",
       "    }\n",
       "</style>\n",
       "<table border=\"1\" class=\"dataframe\">\n",
       "  <thead>\n",
       "    <tr style=\"text-align: right;\">\n",
       "      <th></th>\n",
       "      <th>id</th>\n",
       "      <th>campaign_id</th>\n",
       "      <th>is_open</th>\n",
       "      <th>is_click</th>\n",
       "      <th>cumulative_count</th>\n",
       "      <th>date</th>\n",
       "      <th>no_of_emails</th>\n",
       "      <th>has_opened</th>\n",
       "      <th>has_clicked</th>\n",
       "      <th>day_of_week</th>\n",
       "      <th>hour_of_day</th>\n",
       "    </tr>\n",
       "    <tr>\n",
       "      <th>user_id</th>\n",
       "      <th></th>\n",
       "      <th></th>\n",
       "      <th></th>\n",
       "      <th></th>\n",
       "      <th></th>\n",
       "      <th></th>\n",
       "      <th></th>\n",
       "      <th></th>\n",
       "      <th></th>\n",
       "      <th></th>\n",
       "      <th></th>\n",
       "    </tr>\n",
       "  </thead>\n",
       "  <tbody>\n",
       "    <tr>\n",
       "      <th>14051</th>\n",
       "      <td>42_14051</td>\n",
       "      <td>42</td>\n",
       "      <td>0</td>\n",
       "      <td>0</td>\n",
       "      <td>0</td>\n",
       "      <td>2017-09-01 19:55:00</td>\n",
       "      <td>9</td>\n",
       "      <td>0</td>\n",
       "      <td>0</td>\n",
       "      <td>4</td>\n",
       "      <td>19</td>\n",
       "    </tr>\n",
       "    <tr>\n",
       "      <th>134438</th>\n",
       "      <td>52_134438</td>\n",
       "      <td>52</td>\n",
       "      <td>0</td>\n",
       "      <td>0</td>\n",
       "      <td>0</td>\n",
       "      <td>2017-11-02 12:53:00</td>\n",
       "      <td>4</td>\n",
       "      <td>0</td>\n",
       "      <td>0</td>\n",
       "      <td>3</td>\n",
       "      <td>12</td>\n",
       "    </tr>\n",
       "    <tr>\n",
       "      <th>181789</th>\n",
       "      <td>33_181789</td>\n",
       "      <td>33</td>\n",
       "      <td>0</td>\n",
       "      <td>0</td>\n",
       "      <td>0</td>\n",
       "      <td>2017-07-24 15:15:00</td>\n",
       "      <td>7</td>\n",
       "      <td>0</td>\n",
       "      <td>0</td>\n",
       "      <td>0</td>\n",
       "      <td>15</td>\n",
       "    </tr>\n",
       "    <tr>\n",
       "      <th>231448</th>\n",
       "      <td>44_231448</td>\n",
       "      <td>44</td>\n",
       "      <td>0</td>\n",
       "      <td>0</td>\n",
       "      <td>0</td>\n",
       "      <td>2017-09-05 11:36:00</td>\n",
       "      <td>6</td>\n",
       "      <td>0</td>\n",
       "      <td>0</td>\n",
       "      <td>1</td>\n",
       "      <td>11</td>\n",
       "    </tr>\n",
       "    <tr>\n",
       "      <th>185580</th>\n",
       "      <td>29_185580</td>\n",
       "      <td>29</td>\n",
       "      <td>0</td>\n",
       "      <td>0</td>\n",
       "      <td>0</td>\n",
       "      <td>2017-07-01 18:01:00</td>\n",
       "      <td>5</td>\n",
       "      <td>0</td>\n",
       "      <td>0</td>\n",
       "      <td>5</td>\n",
       "      <td>18</td>\n",
       "    </tr>\n",
       "  </tbody>\n",
       "</table>\n",
       "</div>"
      ],
      "text/plain": [
       "                id  campaign_id  is_open  is_click  cumulative_count  \\\n",
       "user_id                                                                \n",
       "14051     42_14051           42        0         0                 0   \n",
       "134438   52_134438           52        0         0                 0   \n",
       "181789   33_181789           33        0         0                 0   \n",
       "231448   44_231448           44        0         0                 0   \n",
       "185580   29_185580           29        0         0                 0   \n",
       "\n",
       "                       date  no_of_emails  has_opened  has_clicked  \\\n",
       "user_id                                                              \n",
       "14051   2017-09-01 19:55:00             9           0            0   \n",
       "134438  2017-11-02 12:53:00             4           0            0   \n",
       "181789  2017-07-24 15:15:00             7           0            0   \n",
       "231448  2017-09-05 11:36:00             6           0            0   \n",
       "185580  2017-07-01 18:01:00             5           0            0   \n",
       "\n",
       "         day_of_week  hour_of_day  \n",
       "user_id                            \n",
       "14051              4           19  \n",
       "134438             3           12  \n",
       "181789             0           15  \n",
       "231448             1           11  \n",
       "185580             5           18  "
      ]
     },
     "execution_count": 133,
     "metadata": {},
     "output_type": "execute_result"
    }
   ],
   "source": [
    "# adds feature to indicate the cumulative count of emails a particular user has received\n",
    "train['cumulative_count'] = train.groupby('user_id').cumcount()\n",
    "\n",
    "# add datetime column\n",
    "train['date'] = pd.to_datetime(train['send_date'], format = \"%d-%m-%Y %H:%M\")\n",
    "# set index to user_id so we can assign new columns easier\n",
    "train.index = train.user_id\n",
    "# drop extra columns\n",
    "train.drop(['user_id','send_date'], axis = 1, inplace = True)\n",
    "# create new column for number of emails\n",
    "train['no_of_emails'] = train.groupby('user_id').count()['id']\n",
    "train.head()\n",
    "\n",
    "\n",
    "# determines whether a user has opened and clicked at least one email\n",
    "# 1 for yes, 0 for no\n",
    "def sorting(a):\n",
    "    avg = np.mean(a)\n",
    "    if avg == 0:\n",
    "        return 0\n",
    "    else:\n",
    "        return 1\n",
    "\n",
    "train['has_opened'] = train.groupby('user_id')['is_open'].agg(sorting)\n",
    "train['has_clicked'] = train.groupby('user_id')['is_click'].agg(sorting)\n",
    "\n",
    "# returns timestamp object day of week and hour of day\n",
    "def weekday(a):\n",
    "    return a.dayofweek\n",
    "\n",
    "def hourofday(a):\n",
    "    return a.hour\n",
    "\n",
    "train['day_of_week']= train['date'].apply(weekday)\n",
    "train['hour_of_day']= train['date'].apply(hourofday)\n",
    "train.head()"
   ]
  },
  {
   "cell_type": "code",
   "execution_count": 135,
   "metadata": {},
   "outputs": [
    {
     "name": "stdout",
     "output_type": "stream",
     "text": [
      "Percentage of total emails that get opened: 10.05%\n"
     ]
    }
   ],
   "source": [
    "open_percentage = (train['is_open'].value_counts()[1] / train.shape[0]) * 100\n",
    "print('Percentage of total emails that get opened: {0:.2f}%'.format(open_percentage))"
   ]
  },
  {
   "cell_type": "code",
   "execution_count": 136,
   "metadata": {},
   "outputs": [
    {
     "name": "stdout",
     "output_type": "stream",
     "text": [
      "Percentage of total emails that get clicked: 1.25%\n"
     ]
    }
   ],
   "source": [
    "click_percentage = (train['is_click'].value_counts()[1] / train.shape[0]) * 100\n",
    "print('Percentage of total emails that get clicked: {0:.2f}%'.format(click_percentage))"
   ]
  },
  {
   "cell_type": "code",
   "execution_count": 137,
   "metadata": {},
   "outputs": [
    {
     "data": {
      "text/plain": [
       "count    1.023191e+06\n",
       "mean     3.802037e-01\n",
       "std      4.854370e-01\n",
       "min      0.000000e+00\n",
       "25%      0.000000e+00\n",
       "50%      0.000000e+00\n",
       "75%      1.000000e+00\n",
       "max      1.000000e+00\n",
       "Name: has_opened, dtype: float64"
      ]
     },
     "execution_count": 137,
     "metadata": {},
     "output_type": "execute_result"
    }
   ],
   "source": [
    "train['has_opened'].describe()"
   ]
  },
  {
   "cell_type": "markdown",
   "metadata": {},
   "source": [
    "32.37% of people have opened at least one email.  "
   ]
  },
  {
   "cell_type": "code",
   "execution_count": 138,
   "metadata": {},
   "outputs": [
    {
     "data": {
      "text/plain": [
       "count    1.023191e+06\n",
       "mean     7.993718e-02\n",
       "std      2.711960e-01\n",
       "min      0.000000e+00\n",
       "25%      0.000000e+00\n",
       "50%      0.000000e+00\n",
       "75%      0.000000e+00\n",
       "max      1.000000e+00\n",
       "Name: has_clicked, dtype: float64"
      ]
     },
     "execution_count": 138,
     "metadata": {},
     "output_type": "execute_result"
    }
   ],
   "source": [
    "train['has_clicked'].describe()"
   ]
  },
  {
   "cell_type": "markdown",
   "metadata": {},
   "source": [
    "6.17% of people have clicked a link inside at least one email."
   ]
  },
  {
   "cell_type": "code",
   "execution_count": 139,
   "metadata": {},
   "outputs": [
    {
     "data": {
      "text/plain": [
       "no_of_emails\n",
       "1     0.007217\n",
       "2     0.011204\n",
       "3     0.018428\n",
       "4     0.015116\n",
       "5     0.012185\n",
       "6     0.010641\n",
       "7     0.009938\n",
       "8     0.009846\n",
       "9     0.011059\n",
       "10    0.012526\n",
       "11    0.016725\n",
       "12    0.022652\n",
       "13    0.032679\n",
       "14    0.036742\n",
       "15    0.032338\n",
       "16    0.053513\n",
       "17    0.047059\n",
       "18    0.057692\n",
       "19    0.052632\n",
       "20    0.000000\n",
       "Name: is_click, dtype: float64"
      ]
     },
     "execution_count": 139,
     "metadata": {},
     "output_type": "execute_result"
    }
   ],
   "source": [
    "percentage_click_by_no_emails = train.groupby('no_of_emails')['is_click'].agg(np.mean)\n",
    "percentage_click_by_no_emails"
   ]
  },
  {
   "cell_type": "markdown",
   "metadata": {},
   "source": [
    "Having received more emails correlates to a higher click rate."
   ]
  },
  {
   "cell_type": "code",
   "execution_count": 140,
   "metadata": {
    "scrolled": false
   },
   "outputs": [
    {
     "data": {
      "text/plain": [
       "no_of_emails\n",
       "1     0.108314\n",
       "2     0.105458\n",
       "3     0.110910\n",
       "4     0.104117\n",
       "5     0.101311\n",
       "6     0.092313\n",
       "7     0.091007\n",
       "8     0.091580\n",
       "9     0.096695\n",
       "10    0.104427\n",
       "11    0.112147\n",
       "12    0.133895\n",
       "13    0.148064\n",
       "14    0.171501\n",
       "15    0.182338\n",
       "16    0.225490\n",
       "17    0.201070\n",
       "18    0.166667\n",
       "19    0.126316\n",
       "20    0.150000\n",
       "Name: is_open, dtype: float64"
      ]
     },
     "execution_count": 140,
     "metadata": {},
     "output_type": "execute_result"
    }
   ],
   "source": [
    "percentage_open_by_no_emails = train.groupby('no_of_emails')['is_open'].agg(np.mean)\n",
    "percentage_open_by_no_emails"
   ]
  },
  {
   "cell_type": "code",
   "execution_count": 160,
   "metadata": {
    "scrolled": false
   },
   "outputs": [
    {
     "data": {
      "text/plain": [
       "campaign_id\n",
       "29    [5, 6]\n",
       "30       [2]\n",
       "31       [2]\n",
       "32       [2]\n",
       "33    [2, 0]\n",
       "34       [1]\n",
       "35       [5]\n",
       "36       [3]\n",
       "37       [0]\n",
       "38       [5]\n",
       "39       [2]\n",
       "40       [4]\n",
       "41       [3]\n",
       "42       [4]\n",
       "43       [2]\n",
       "44       [1]\n",
       "45       [0]\n",
       "46       [3]\n",
       "47       [3]\n",
       "48       [0]\n",
       "49       [3]\n",
       "50       [4]\n",
       "51       [2]\n",
       "52       [3]\n",
       "53       [0]\n",
       "54       [4]\n",
       "Name: day_of_week, dtype: object"
      ]
     },
     "execution_count": 160,
     "metadata": {},
     "output_type": "execute_result"
    }
   ],
   "source": [
    "train.groupby('campaign_id')['day_of_week'].unique()"
   ]
  },
  {
   "cell_type": "markdown",
   "metadata": {},
   "source": [
    "It appears that most campaigns were all sent out on one specific day of the week (it's probably safe to assume the same exact day), except for campaign 29, which was sent out on a Saturday and Sunday and campaign 33, which occured on a Monday and Wednesday. "
   ]
  },
  {
   "cell_type": "code",
   "execution_count": 143,
   "metadata": {},
   "outputs": [
    {
     "data": {
      "text/plain": [
       "campaign_id\n",
       "45    0.373168\n",
       "39    0.352452\n",
       "51    0.314529\n",
       "43    0.313433\n",
       "46    0.269454\n",
       "Name: is_open, dtype: float64"
      ]
     },
     "execution_count": 143,
     "metadata": {},
     "output_type": "execute_result"
    }
   ],
   "source": [
    "# merge training data with campaign data\n",
    "df_merge = campaign_data.merge(train, on = 'campaign_id')\n",
    "\n",
    "# groupby to gather insights on campaigns\n",
    "campaigns = df_merge.groupby('campaign_id')['is_open','is_click'].agg(np.mean)\n",
    "campaigns['click_given_open'] = campaigns['is_click'] / campaigns['is_open']\n",
    "\n",
    "campaigns['is_open'].sort_values(ascending = False)[0:5]"
   ]
  },
  {
   "cell_type": "markdown",
   "metadata": {},
   "source": [
    "Campaign 45 was the most successful as far as getting users to open the email. "
   ]
  },
  {
   "cell_type": "code",
   "execution_count": 144,
   "metadata": {},
   "outputs": [
    {
     "data": {
      "text/plain": [
       "campaign_id\n",
       "45    0.071402\n",
       "39    0.046171\n",
       "35    0.043921\n",
       "51    0.043792\n",
       "43    0.029851\n",
       "Name: is_click, dtype: float64"
      ]
     },
     "execution_count": 144,
     "metadata": {},
     "output_type": "execute_result"
    }
   ],
   "source": [
    "campaigns['is_click'].sort_values(ascending = False)[0:5]"
   ]
  },
  {
   "cell_type": "markdown",
   "metadata": {},
   "source": [
    "Campaign 45 was also the most successful at engaging users as measured by click-throughs."
   ]
  },
  {
   "cell_type": "code",
   "execution_count": 145,
   "metadata": {},
   "outputs": [
    {
     "data": {
      "text/plain": [
       "campaign_id\n",
       "50    0.293606\n",
       "52    0.292084\n",
       "53    0.276105\n",
       "35    0.257468\n",
       "29    0.254562\n",
       "Name: click_given_open, dtype: float64"
      ]
     },
     "execution_count": 145,
     "metadata": {},
     "output_type": "execute_result"
    }
   ],
   "source": [
    "campaigns['click_given_open'].sort_values(ascending = False)[0:5]"
   ]
  },
  {
   "cell_type": "markdown",
   "metadata": {},
   "source": [
    "At best, only about 30% of the people that open an email will end up clicking.  "
   ]
  },
  {
   "cell_type": "code",
   "execution_count": 146,
   "metadata": {
    "scrolled": true
   },
   "outputs": [
    {
     "data": {
      "image/png": "[encoded data removed]",
      "text/plain": [
       "<matplotlib.figure.Figure at 0x1ca117fa588>"
      ]
     },
     "metadata": {},
     "output_type": "display_data"
    }
   ],
   "source": [
    "# Setting the positions and width for the bars\n",
    "pos = list(range(len(campaigns['is_click'].values))) \n",
    "width1 = .4\n",
    "width2 = .8\n",
    "    \n",
    "# Plotting the bars\n",
    "fig, ax = plt.subplots(figsize=(15,5))\n",
    "\n",
    "# Create a bar with dow_open data in position pos\n",
    "plt.bar(pos, list(campaigns['is_open'].values), width, alpha=0.5, color='darkslategrey') \n",
    "\n",
    "# Create a bar with 'dow_click' data in position pos + some width buffers\n",
    "plt.bar([p + width1 for p in pos], list(campaigns['is_click'].values),width, alpha=0.5, color='silver') \n",
    "\n",
    "# Set the y axis label\n",
    "ax.set_ylabel('Percentage')\n",
    "\n",
    "# Set the chart's title\n",
    "ax.set_title('Percentage of Opened and Clicked Emails by Campaign')\n",
    "\n",
    "# Set the position and label of the x ticks - label is the index of the DataFrame\n",
    "ax.set_xticks([p + .5 * width for p in pos])\n",
    "# no emails were sent during the 21:00 hour\n",
    "ax.set_xticklabels(campaigns.index)\n",
    "ax.set_xlabel('Campaign Id')\n",
    "ax.tick_params(axis='both', which='both', length=0)\n",
    "\n",
    "# Setting the x-axis and y-axis limits\n",
    "plt.xlim(min(pos)-width, max(pos)+width*2)\n",
    "\n",
    "# Adding the legend and showing the plot\n",
    "plt.legend(['Opened Email', 'Clicked Email', '%'], loc = 'best')\n",
    "plt.show()"
   ]
  },
  {
   "cell_type": "code",
   "execution_count": 163,
   "metadata": {},
   "outputs": [
    {
     "data": {
      "image/png": "[encoded data removed]",
      "text/plain": [
       "<matplotlib.figure.Figure at 0x1ca11861f60>"
      ]
     },
     "metadata": {},
     "output_type": "display_data"
    }
   ],
   "source": [
    "fig, ax = plt.subplots()\n",
    "fmt = '{x:,.0f}'\n",
    "tick = mtick.StrMethodFormatter(fmt)\n",
    "df_merge['communication_type'].value_counts().plot(kind = 'bar', color = 'silver')\n",
    "ax.set_title('Frequency of Email Types')\n",
    "ax.tick_params(axis='both', which='both', length=0)\n",
    "ax.yaxis.set_major_formatter(tick) \n",
    "plt.show()"
   ]
  },
  {
   "cell_type": "code",
   "execution_count": 165,
   "metadata": {},
   "outputs": [
    {
     "name": "stderr",
     "output_type": "stream",
     "text": [
      "C:\\Users\\BradT\\Anaconda3\\lib\\site-packages\\numpy\\core\\fromnumeric.py:57: FutureWarning: reshape is deprecated and will raise in a subsequent release. Please use .values.reshape(...) instead\n",
      "  return getattr(obj, method)(*args, **kwds)\n"
     ]
    },
    {
     "data": {
      "image/png": "[encoded data removed]",
      "text/plain": [
       "<matplotlib.figure.Figure at 0x1ca118c99b0>"
      ]
     },
     "metadata": {},
     "output_type": "display_data"
    }
   ],
   "source": [
    "pivot = pd.pivot_table(df_merge, index = ['communication_type'], columns = ['campaign_id'],values = ['is_click','is_open'], fill_value = 0)\n",
    "communication_types = ['conference', 'corporate', 'hackathon', 'newsletter', 'others', 'upcoming_events']\n",
    "click_dict = {}\n",
    "open_dict = {}\n",
    "i = 0\n",
    "\n",
    "for type in communication_types:\n",
    "    \n",
    "    click_dict[type] = pivot['is_click'].loc[pivot.index[i]]\n",
    "    click_dict[type] = click_dict[type].loc[click_dict[type] != 0]\n",
    "    \n",
    "    open_dict[type] = pivot['is_open'].loc[pivot.index[i]]\n",
    "    open_dict[type] = open_dict[type].loc[open_dict[type] != 0]\n",
    "    \n",
    "    i += 1\n",
    "    \n",
    "fig = plt.figure(figsize = (8,14))\n",
    "ax1 = fig.add_subplot(2,1,2)\n",
    "ax1.boxplot(open_dict.values())\n",
    "ax1.set_xticklabels(open_dict.keys())\n",
    "ax1.set_title('Campaign Average Click Through Rate by Communication Type')\n",
    "ax1.tick_params(axis='both', which='both', length=0)\n",
    "\n",
    "ax2 = fig.add_subplot(2,1,1)\n",
    "ax2.boxplot(click_dict.values())\n",
    "ax2.set_xticklabels(click_dict.keys())\n",
    "ax2.set_title('Campaign Average Open Rate by Communication Type')\n",
    "ax2.tick_params(axis='both', which='both', length=0)\n",
    "\n",
    "fig.subplots_adjust(hspace = .4)\n",
    "plt.show()"
   ]
  },
  {
   "cell_type": "markdown",
   "metadata": {},
   "source": [
    "Hackathons receive the most opens and clicks, while newsletters get the least."
   ]
  },
  {
   "cell_type": "code",
   "execution_count": 147,
   "metadata": {
    "scrolled": false
   },
   "outputs": [
    {
     "data": {
      "image/png": "[encoded data removed]",
      "text/plain": [
       "<matplotlib.figure.Figure at 0x1ca11817f28>"
      ]
     },
     "metadata": {},
     "output_type": "display_data"
    }
   ],
   "source": [
    "fig, ax = plt.subplots()\n",
    "fmt = '{x:,.0f}'\n",
    "tick = mtick.StrMethodFormatter(fmt)\n",
    "train['no_of_emails'].plot(kind = 'hist', bins = 20,color='silver')\n",
    "ax.set_title('Distribution of Emails Received Per Person')\n",
    "ax.set_xlabel('Number of Emails Received')\n",
    "ax.tick_params(axis='both', which='both', length=0)\n",
    "ax.yaxis.set_major_formatter(tick) \n",
    "plt.show()"
   ]
  },
  {
   "cell_type": "markdown",
   "metadata": {},
   "source": [
    "The distribution of emails received is approximately normal, and slightly skewed to the right.  The mean value is about 8 emails. "
   ]
  },
  {
   "cell_type": "code",
   "execution_count": 148,
   "metadata": {},
   "outputs": [
    {
     "data": {
      "image/png": "[encoded data removed]",
      "text/plain": [
       "<matplotlib.figure.Figure at 0x1ca11817588>"
      ]
     },
     "metadata": {},
     "output_type": "display_data"
    }
   ],
   "source": [
    "days = train.groupby('day_of_week').count()['id']\n",
    "\n",
    "fig, ax = plt.subplots()\n",
    "fmt = '{x:,.0f}'\n",
    "tick = mtick.StrMethodFormatter(fmt)\n",
    "days.plot.bar(color='silver')\n",
    "ax.set_title('Count of Emails Per Day of Week')\n",
    "ax.set_xticklabels(['Monday','Tuesday','Wednesday','Thursday','Friday','Saturday','Sunday'])\n",
    "ax.set_xlabel('Day of Week')\n",
    "ax.tick_params(axis='both', which='both', length=0)\n",
    "ax.yaxis.set_major_formatter(tick) \n",
    "plt.show()"
   ]
  },
  {
   "cell_type": "code",
   "execution_count": 149,
   "metadata": {},
   "outputs": [
    {
     "data": {
      "image/png": "[encoded data removed]",
      "text/plain": [
       "<matplotlib.figure.Figure at 0x1ca1f728c50>"
      ]
     },
     "metadata": {},
     "output_type": "display_data"
    }
   ],
   "source": [
    "dow_open = train.groupby('day_of_week')['is_open'].agg(np.mean)\n",
    "dow_click = train.groupby('day_of_week')['is_click'].agg(np.mean)\n",
    "\n",
    "dow_open = dow_open.values * 100\n",
    "dow_click = dow_click.values * 100\n",
    "\n",
    "# Setting the positions and width for the bars\n",
    "pos = list(range(len(dow_open))) \n",
    "width = 0.35\n",
    "    \n",
    "# Plotting the bars\n",
    "fig, ax = plt.subplots(figsize=(10,5))\n",
    "\n",
    "# Create a bar with dow_open data in position pos\n",
    "plt.bar(pos, list(dow_open), width, alpha=0.5, color='darkslategrey') \n",
    "\n",
    "# Create a bar with 'dow_click' data in position pos + some width buffers\n",
    "plt.bar([p + width for p in pos],list(dow_click),width, alpha=0.5, color='silver') \n",
    "\n",
    "# Set the y axis label\n",
    "ax.set_ylabel('Percentage')\n",
    "\n",
    "# Set the chart's title\n",
    "ax.set_title('Percentage of Opened and Clicked Emails by Day of the Week')\n",
    "\n",
    "# Set the position and label of the x ticks - label is the index of the DataFrame\n",
    "ax.set_xticks([p + .5 * width for p in pos])\n",
    "ax.set_xticklabels(['Monday', 'Tuesday', 'Wednesday', 'Thursday', 'Friday', 'Saturday', 'Sunday'])\n",
    "ax.tick_params(axis='both', which='both', length=0)\n",
    "\n",
    "# Setting the x-axis and y-axis limits\n",
    "plt.xlim(min(pos)-width, max(pos)+width*2)\n",
    "\n",
    "# Adding the legend and showing the plot\n",
    "plt.legend(['Opened Email', 'Clicked Email'], loc = 'best')\n",
    "plt.show()"
   ]
  },
  {
   "cell_type": "markdown",
   "metadata": {},
   "source": [
    "Click through rates remain low througout the week, and seem to be slightly higher on the weekends.  The percentage of emails opened seems to vary greatly, with the largest percentage being on Wednesday, and the smallest on Tuesdays. "
   ]
  },
  {
   "cell_type": "code",
   "execution_count": 150,
   "metadata": {},
   "outputs": [
    {
     "data": {
      "image/png": "[encoded data removed]",
      "text/plain": [
       "<matplotlib.figure.Figure at 0x1ca4760e940>"
      ]
     },
     "metadata": {},
     "output_type": "display_data"
    }
   ],
   "source": [
    "hours = train.groupby('hour_of_day').count()['id']\n",
    "\n",
    "fig, ax = plt.subplots()\n",
    "fmt = '{x:,.0f}'\n",
    "tick = mtick.StrMethodFormatter(fmt)\n",
    "hours.plot.bar(color='silver')\n",
    "ax.set_title('Count of Emails Per Hour of Day')\n",
    "ax.set_xticklabels(['9:00','10:00','11:00','12:00','13:00','14:00','15:00','16:00','17:00','18:00','19:00','20:00','22:00','23:00'])\n",
    "ax.set_xlabel('Hour of Day')\n",
    "ax.tick_params(axis='both', which='both', length=0)\n",
    "ax.yaxis.set_major_formatter(tick) \n",
    "plt.show()"
   ]
  },
  {
   "cell_type": "code",
   "execution_count": 151,
   "metadata": {},
   "outputs": [
    {
     "data": {
      "image/png": "[encoded data removed]",
      "text/plain": [
       "<matplotlib.figure.Figure at 0x1ca1176e2e8>"
      ]
     },
     "metadata": {},
     "output_type": "display_data"
    }
   ],
   "source": [
    "hod_open = train.groupby('hour_of_day')['is_open'].agg(np.mean)\n",
    "hod_click = train.groupby('hour_of_day')['is_click'].agg(np.mean)\n",
    "\n",
    "hod_open = hod_open.values * 100\n",
    "hod_click = hod_click.values * 100\n",
    "\n",
    "# Setting the positions and width for the bars\n",
    "pos = list(range(len(hod_open))) \n",
    "width = 0.35\n",
    "    \n",
    "# Plotting the bars\n",
    "fig, ax = plt.subplots(figsize=(10,5))\n",
    "\n",
    "# Create a bar with dow_open data in position pos\n",
    "plt.bar(pos, list(hod_open), width, alpha=0.5, color='darkslategrey') \n",
    "\n",
    "# Create a bar with 'dow_click' data in position pos + some width buffers\n",
    "plt.bar([p + width for p in pos],list(hod_click),width, alpha=0.5, color='silver') \n",
    "\n",
    "# Set the y axis label\n",
    "ax.set_ylabel('Percentage')\n",
    "\n",
    "# Set the chart's title\n",
    "ax.set_title('Percentage of Opened and Clicked Emails by Hour of Day')\n",
    "\n",
    "# Set the position and label of the x ticks - label is the index of the DataFrame\n",
    "ax.set_xticks([p + .5 * width for p in pos])\n",
    "# no emails were sent during the 21:00 hour\n",
    "ax.set_xticklabels(['9:00','10:00','11:00','12:00','13:00','14:00','15:00','16:00','17:00','18:00','19:00','20:00','22:00','23:00'])\n",
    "ax.set_xlabel('Hour of Day')\n",
    "ax.tick_params(axis='both', which='both', length=0)\n",
    "\n",
    "# Setting the x-axis and y-axis limits\n",
    "plt.xlim(min(pos)-width, max(pos)+width*2)\n",
    "\n",
    "# Adding the legend and showing the plot\n",
    "plt.legend(['Opened Email', 'Clicked Email'], loc = 'best')\n",
    "plt.show()"
   ]
  },
  {
   "cell_type": "markdown",
   "metadata": {},
   "source": [
    "Emails sent at 9:00, 13:00, 16:00, and 20:00 are the most likely to be opened.  A possible explanation is that they correspond to morning, lunch and near the end of the typical workday - although this would completely depend on the user's time zone. It does not seem to be the case that a high open percentage corresponds to a high click percentage."
   ]
  },
  {
   "cell_type": "markdown",
   "metadata": {},
   "source": [
    "## Bucket user_id WRT open and click"
   ]
  },
  {
   "cell_type": "code",
   "execution_count": 152,
   "metadata": {
    "collapsed": true
   },
   "outputs": [],
   "source": [
    "train.reset_index(inplace=True)"
   ]
  },
  {
   "cell_type": "code",
   "execution_count": 153,
   "metadata": {
    "collapsed": true
   },
   "outputs": [],
   "source": [
    "def encode_feature(df, feature_name, column_to_agg, num_buckets = 30):\n",
    "    \n",
    "    # create name for new feture, and copy the dataframe\n",
    "    bucket = feature_name + '_bucket_interval'\n",
    "    bucket_val = feature_name + '_' + column_to_agg + '_bucket_avg_val'\n",
    "    df_copy = df.copy()\n",
    "        \n",
    "    # create a new feature that contains the interval to which the observation belongs\n",
    "    df_copy[bucket] = pd.qcut(df[feature_name],num_buckets, duplicates = 'drop') \n",
    "        \n",
    "    # group the intervals together and calculate the mean price for each interval/bucket\n",
    "    df_new = df_copy.groupby(df_copy[bucket], as_index = False).agg({column_to_agg:'mean'})\n",
    "    df_new = pd.DataFrame(df_new)\n",
    "    \n",
    "    # specify the column names, and create a row that contains the number of the bucket for plotting\n",
    "    df_new.rename(columns = {column_to_agg:bucket_val}, inplace = True)\n",
    "    df_new['bucket_number'] = df_new.index + 1\n",
    "    df_new.head()\n",
    "    \n",
    "    # show a scatter plot of the buckets\n",
    "    fig, ax = plt.subplots(figsize = (8,6))\n",
    "    plt.scatter(df_new.bucket_number,df_new[bucket_val])\n",
    "    plt.xlabel('Bucket Number - ' + feature_name)\n",
    "    plt.ylabel('Average Bucket Value - ' + column_to_agg)\n",
    "    #ax.yaxis.set_major_formatter(tick) \n",
    "    plt.show()\n",
    "    \n",
    "    #join df and df_new on the new bucket_interval feature\n",
    "    df_join = pd.merge(df_new, df_copy, on=bucket)\n",
    "    df_join.drop([bucket, 'bucket_number'], axis = 1, inplace = True)\n",
    "    return df_join"
   ]
  },
  {
   "cell_type": "code",
   "execution_count": 154,
   "metadata": {},
   "outputs": [
    {
     "data": {
      "image/png": "[encoded data removed]",
      "text/plain": [
       "<matplotlib.figure.Figure at 0x1ca5296f470>"
      ]
     },
     "metadata": {},
     "output_type": "display_data"
    }
   ],
   "source": [
    "train = encode_feature(train, 'user_id', 'is_open')"
   ]
  },
  {
   "cell_type": "code",
   "execution_count": 155,
   "metadata": {},
   "outputs": [
    {
     "data": {
      "image/png": "[encoded data removed]",
      "text/plain": [
       "<matplotlib.figure.Figure at 0x1ca06707dd8>"
      ]
     },
     "metadata": {},
     "output_type": "display_data"
    }
   ],
   "source": [
    "train = encode_feature(train, 'user_id', 'is_click')"
   ]
  },
  {
   "cell_type": "markdown",
   "metadata": {},
   "source": [
    "The click through rate is fairly constant, fluctuating between .011 and .015 for each grouping of users.  There seems to be a very slight positive slope, which may indicate that newer users are clicking at a higher frequency, or perhaps that as users gain familiarity with the types of emails they receive, they become less inclined to click on links. "
   ]
  },
  {
   "cell_type": "markdown",
   "metadata": {},
   "source": [
    "Having received more emails correlates to a higher open rate."
   ]
  },
  {
   "cell_type": "code",
   "execution_count": 157,
   "metadata": {},
   "outputs": [
    {
     "data": {
      "image/png": "[encoded data removed]",
      "text/plain": [
       "<matplotlib.figure.Figure at 0x1ca1180ac50>"
      ]
     },
     "metadata": {},
     "output_type": "display_data"
    }
   ],
   "source": [
    "train = encode_feature(train, 'no_of_emails', 'is_click')"
   ]
  },
  {
   "cell_type": "code",
   "execution_count": 158,
   "metadata": {},
   "outputs": [
    {
     "data": {
      "image/png": "[encoded data removed]",
      "text/plain": [
       "<matplotlib.figure.Figure at 0x1ca0758e048>"
      ]
     },
     "metadata": {},
     "output_type": "display_data"
    }
   ],
   "source": [
    "train = encode_feature(train,'no_of_emails', 'is_open')"
   ]
  },
  {
   "cell_type": "code",
   "execution_count": 167,
   "metadata": {},
   "outputs": [
    {
     "data": {
      "text/html": [
       "<div>\n",
       "<style>\n",
       "    .dataframe thead tr:only-child th {\n",
       "        text-align: right;\n",
       "    }\n",
       "\n",
       "    .dataframe thead th {\n",
       "        text-align: left;\n",
       "    }\n",
       "\n",
       "    .dataframe tbody tr th {\n",
       "        vertical-align: top;\n",
       "    }\n",
       "</style>\n",
       "<table border=\"1\" class=\"dataframe\">\n",
       "  <thead>\n",
       "    <tr style=\"text-align: right;\">\n",
       "      <th></th>\n",
       "      <th>campaign_id</th>\n",
       "      <th>communication_type</th>\n",
       "      <th>total_links</th>\n",
       "      <th>no_of_internal_links</th>\n",
       "      <th>no_of_images</th>\n",
       "      <th>no_of_sections</th>\n",
       "      <th>email_body</th>\n",
       "      <th>subject</th>\n",
       "      <th>email_url</th>\n",
       "      <th>no_of_emails_is_open_bucket_avg_val</th>\n",
       "      <th>no_of_emails_is_click_bucket_avg_val</th>\n",
       "      <th>user_id_is_click_bucket_avg_val</th>\n",
       "      <th>user_id_is_open_bucket_avg_val</th>\n",
       "      <th>user_id</th>\n",
       "      <th>id</th>\n",
       "      <th>is_open</th>\n",
       "      <th>is_click</th>\n",
       "      <th>cumulative_count</th>\n",
       "      <th>date</th>\n",
       "      <th>no_of_emails</th>\n",
       "      <th>has_opened</th>\n",
       "      <th>has_clicked</th>\n",
       "      <th>day_of_week</th>\n",
       "      <th>hour_of_day</th>\n",
       "    </tr>\n",
       "  </thead>\n",
       "  <tbody>\n",
       "    <tr>\n",
       "      <th>0</th>\n",
       "      <td>29</td>\n",
       "      <td>Newsletter</td>\n",
       "      <td>67</td>\n",
       "      <td>61</td>\n",
       "      <td>12</td>\n",
       "      <td>3</td>\n",
       "      <td>Dear AVians,\\r\\n \\r\\nWe are shaping up a super...</td>\n",
       "      <td>Sneak Peek: A look at the emerging data scienc...</td>\n",
       "      <td>http://r.newsletters.analyticsvidhya.com/7um44...</td>\n",
       "      <td>0.106471</td>\n",
       "      <td>0.009791</td>\n",
       "      <td>0.011316</td>\n",
       "      <td>0.093078</td>\n",
       "      <td>4378</td>\n",
       "      <td>29_4378</td>\n",
       "      <td>0</td>\n",
       "      <td>0</td>\n",
       "      <td>1</td>\n",
       "      <td>2017-07-01 18:06:00</td>\n",
       "      <td>2</td>\n",
       "      <td>0</td>\n",
       "      <td>0</td>\n",
       "      <td>5</td>\n",
       "      <td>18</td>\n",
       "    </tr>\n",
       "    <tr>\n",
       "      <th>1</th>\n",
       "      <td>29</td>\n",
       "      <td>Newsletter</td>\n",
       "      <td>67</td>\n",
       "      <td>61</td>\n",
       "      <td>12</td>\n",
       "      <td>3</td>\n",
       "      <td>Dear AVians,\\r\\n \\r\\nWe are shaping up a super...</td>\n",
       "      <td>Sneak Peek: A look at the emerging data scienc...</td>\n",
       "      <td>http://r.newsletters.analyticsvidhya.com/7um44...</td>\n",
       "      <td>0.106471</td>\n",
       "      <td>0.009791</td>\n",
       "      <td>0.011316</td>\n",
       "      <td>0.093078</td>\n",
       "      <td>1070</td>\n",
       "      <td>29_1070</td>\n",
       "      <td>1</td>\n",
       "      <td>0</td>\n",
       "      <td>0</td>\n",
       "      <td>2017-07-01 18:14:00</td>\n",
       "      <td>1</td>\n",
       "      <td>1</td>\n",
       "      <td>0</td>\n",
       "      <td>5</td>\n",
       "      <td>18</td>\n",
       "    </tr>\n",
       "    <tr>\n",
       "      <th>2</th>\n",
       "      <td>29</td>\n",
       "      <td>Newsletter</td>\n",
       "      <td>67</td>\n",
       "      <td>61</td>\n",
       "      <td>12</td>\n",
       "      <td>3</td>\n",
       "      <td>Dear AVians,\\r\\n \\r\\nWe are shaping up a super...</td>\n",
       "      <td>Sneak Peek: A look at the emerging data scienc...</td>\n",
       "      <td>http://r.newsletters.analyticsvidhya.com/7um44...</td>\n",
       "      <td>0.106471</td>\n",
       "      <td>0.009791</td>\n",
       "      <td>0.011316</td>\n",
       "      <td>0.093078</td>\n",
       "      <td>4082</td>\n",
       "      <td>29_4082</td>\n",
       "      <td>0</td>\n",
       "      <td>0</td>\n",
       "      <td>0</td>\n",
       "      <td>2017-07-02 18:01:00</td>\n",
       "      <td>1</td>\n",
       "      <td>0</td>\n",
       "      <td>0</td>\n",
       "      <td>6</td>\n",
       "      <td>18</td>\n",
       "    </tr>\n",
       "    <tr>\n",
       "      <th>3</th>\n",
       "      <td>29</td>\n",
       "      <td>Newsletter</td>\n",
       "      <td>67</td>\n",
       "      <td>61</td>\n",
       "      <td>12</td>\n",
       "      <td>3</td>\n",
       "      <td>Dear AVians,\\r\\n \\r\\nWe are shaping up a super...</td>\n",
       "      <td>Sneak Peek: A look at the emerging data scienc...</td>\n",
       "      <td>http://r.newsletters.analyticsvidhya.com/7um44...</td>\n",
       "      <td>0.106471</td>\n",
       "      <td>0.009791</td>\n",
       "      <td>0.011316</td>\n",
       "      <td>0.093078</td>\n",
       "      <td>383</td>\n",
       "      <td>29_383</td>\n",
       "      <td>0</td>\n",
       "      <td>0</td>\n",
       "      <td>1</td>\n",
       "      <td>2017-07-01 18:04:00</td>\n",
       "      <td>2</td>\n",
       "      <td>0</td>\n",
       "      <td>0</td>\n",
       "      <td>5</td>\n",
       "      <td>18</td>\n",
       "    </tr>\n",
       "    <tr>\n",
       "      <th>4</th>\n",
       "      <td>29</td>\n",
       "      <td>Newsletter</td>\n",
       "      <td>67</td>\n",
       "      <td>61</td>\n",
       "      <td>12</td>\n",
       "      <td>3</td>\n",
       "      <td>Dear AVians,\\r\\n \\r\\nWe are shaping up a super...</td>\n",
       "      <td>Sneak Peek: A look at the emerging data scienc...</td>\n",
       "      <td>http://r.newsletters.analyticsvidhya.com/7um44...</td>\n",
       "      <td>0.106471</td>\n",
       "      <td>0.009791</td>\n",
       "      <td>0.011316</td>\n",
       "      <td>0.093078</td>\n",
       "      <td>8163</td>\n",
       "      <td>29_8163</td>\n",
       "      <td>0</td>\n",
       "      <td>0</td>\n",
       "      <td>1</td>\n",
       "      <td>2017-07-02 18:02:00</td>\n",
       "      <td>2</td>\n",
       "      <td>0</td>\n",
       "      <td>0</td>\n",
       "      <td>6</td>\n",
       "      <td>18</td>\n",
       "    </tr>\n",
       "    <tr>\n",
       "      <th>5</th>\n",
       "      <td>29</td>\n",
       "      <td>Newsletter</td>\n",
       "      <td>67</td>\n",
       "      <td>61</td>\n",
       "      <td>12</td>\n",
       "      <td>3</td>\n",
       "      <td>Dear AVians,\\r\\n \\r\\nWe are shaping up a super...</td>\n",
       "      <td>Sneak Peek: A look at the emerging data scienc...</td>\n",
       "      <td>http://r.newsletters.analyticsvidhya.com/7um44...</td>\n",
       "      <td>0.106471</td>\n",
       "      <td>0.009791</td>\n",
       "      <td>0.011316</td>\n",
       "      <td>0.093078</td>\n",
       "      <td>4006</td>\n",
       "      <td>29_4006</td>\n",
       "      <td>0</td>\n",
       "      <td>0</td>\n",
       "      <td>0</td>\n",
       "      <td>2017-07-01 18:15:00</td>\n",
       "      <td>1</td>\n",
       "      <td>0</td>\n",
       "      <td>0</td>\n",
       "      <td>5</td>\n",
       "      <td>18</td>\n",
       "    </tr>\n",
       "    <tr>\n",
       "      <th>6</th>\n",
       "      <td>29</td>\n",
       "      <td>Newsletter</td>\n",
       "      <td>67</td>\n",
       "      <td>61</td>\n",
       "      <td>12</td>\n",
       "      <td>3</td>\n",
       "      <td>Dear AVians,\\r\\n \\r\\nWe are shaping up a super...</td>\n",
       "      <td>Sneak Peek: A look at the emerging data scienc...</td>\n",
       "      <td>http://r.newsletters.analyticsvidhya.com/7um44...</td>\n",
       "      <td>0.106471</td>\n",
       "      <td>0.009791</td>\n",
       "      <td>0.011316</td>\n",
       "      <td>0.093078</td>\n",
       "      <td>791</td>\n",
       "      <td>29_791</td>\n",
       "      <td>0</td>\n",
       "      <td>0</td>\n",
       "      <td>1</td>\n",
       "      <td>2017-07-02 18:00:00</td>\n",
       "      <td>2</td>\n",
       "      <td>0</td>\n",
       "      <td>0</td>\n",
       "      <td>6</td>\n",
       "      <td>18</td>\n",
       "    </tr>\n",
       "    <tr>\n",
       "      <th>7</th>\n",
       "      <td>29</td>\n",
       "      <td>Newsletter</td>\n",
       "      <td>67</td>\n",
       "      <td>61</td>\n",
       "      <td>12</td>\n",
       "      <td>3</td>\n",
       "      <td>Dear AVians,\\r\\n \\r\\nWe are shaping up a super...</td>\n",
       "      <td>Sneak Peek: A look at the emerging data scienc...</td>\n",
       "      <td>http://r.newsletters.analyticsvidhya.com/7um44...</td>\n",
       "      <td>0.106471</td>\n",
       "      <td>0.009791</td>\n",
       "      <td>0.011316</td>\n",
       "      <td>0.093078</td>\n",
       "      <td>3814</td>\n",
       "      <td>29_3814</td>\n",
       "      <td>0</td>\n",
       "      <td>0</td>\n",
       "      <td>0</td>\n",
       "      <td>2017-07-01 18:04:00</td>\n",
       "      <td>2</td>\n",
       "      <td>1</td>\n",
       "      <td>0</td>\n",
       "      <td>5</td>\n",
       "      <td>18</td>\n",
       "    </tr>\n",
       "    <tr>\n",
       "      <th>8</th>\n",
       "      <td>29</td>\n",
       "      <td>Newsletter</td>\n",
       "      <td>67</td>\n",
       "      <td>61</td>\n",
       "      <td>12</td>\n",
       "      <td>3</td>\n",
       "      <td>Dear AVians,\\r\\n \\r\\nWe are shaping up a super...</td>\n",
       "      <td>Sneak Peek: A look at the emerging data scienc...</td>\n",
       "      <td>http://r.newsletters.analyticsvidhya.com/7um44...</td>\n",
       "      <td>0.106471</td>\n",
       "      <td>0.009791</td>\n",
       "      <td>0.012050</td>\n",
       "      <td>0.099892</td>\n",
       "      <td>11371</td>\n",
       "      <td>29_11371</td>\n",
       "      <td>0</td>\n",
       "      <td>0</td>\n",
       "      <td>0</td>\n",
       "      <td>2017-07-02 18:02:00</td>\n",
       "      <td>1</td>\n",
       "      <td>0</td>\n",
       "      <td>0</td>\n",
       "      <td>6</td>\n",
       "      <td>18</td>\n",
       "    </tr>\n",
       "    <tr>\n",
       "      <th>9</th>\n",
       "      <td>29</td>\n",
       "      <td>Newsletter</td>\n",
       "      <td>67</td>\n",
       "      <td>61</td>\n",
       "      <td>12</td>\n",
       "      <td>3</td>\n",
       "      <td>Dear AVians,\\r\\n \\r\\nWe are shaping up a super...</td>\n",
       "      <td>Sneak Peek: A look at the emerging data scienc...</td>\n",
       "      <td>http://r.newsletters.analyticsvidhya.com/7um44...</td>\n",
       "      <td>0.106471</td>\n",
       "      <td>0.009791</td>\n",
       "      <td>0.012050</td>\n",
       "      <td>0.099892</td>\n",
       "      <td>13551</td>\n",
       "      <td>29_13551</td>\n",
       "      <td>1</td>\n",
       "      <td>0</td>\n",
       "      <td>0</td>\n",
       "      <td>2017-07-01 18:11:00</td>\n",
       "      <td>1</td>\n",
       "      <td>1</td>\n",
       "      <td>0</td>\n",
       "      <td>5</td>\n",
       "      <td>18</td>\n",
       "    </tr>\n",
       "  </tbody>\n",
       "</table>\n",
       "</div>"
      ],
      "text/plain": [
       "   campaign_id communication_type  total_links  no_of_internal_links  \\\n",
       "0           29         Newsletter           67                    61   \n",
       "1           29         Newsletter           67                    61   \n",
       "2           29         Newsletter           67                    61   \n",
       "3           29         Newsletter           67                    61   \n",
       "4           29         Newsletter           67                    61   \n",
       "5           29         Newsletter           67                    61   \n",
       "6           29         Newsletter           67                    61   \n",
       "7           29         Newsletter           67                    61   \n",
       "8           29         Newsletter           67                    61   \n",
       "9           29         Newsletter           67                    61   \n",
       "\n",
       "   no_of_images  no_of_sections  \\\n",
       "0            12               3   \n",
       "1            12               3   \n",
       "2            12               3   \n",
       "3            12               3   \n",
       "4            12               3   \n",
       "5            12               3   \n",
       "6            12               3   \n",
       "7            12               3   \n",
       "8            12               3   \n",
       "9            12               3   \n",
       "\n",
       "                                          email_body  \\\n",
       "0  Dear AVians,\\r\\n \\r\\nWe are shaping up a super...   \n",
       "1  Dear AVians,\\r\\n \\r\\nWe are shaping up a super...   \n",
       "2  Dear AVians,\\r\\n \\r\\nWe are shaping up a super...   \n",
       "3  Dear AVians,\\r\\n \\r\\nWe are shaping up a super...   \n",
       "4  Dear AVians,\\r\\n \\r\\nWe are shaping up a super...   \n",
       "5  Dear AVians,\\r\\n \\r\\nWe are shaping up a super...   \n",
       "6  Dear AVians,\\r\\n \\r\\nWe are shaping up a super...   \n",
       "7  Dear AVians,\\r\\n \\r\\nWe are shaping up a super...   \n",
       "8  Dear AVians,\\r\\n \\r\\nWe are shaping up a super...   \n",
       "9  Dear AVians,\\r\\n \\r\\nWe are shaping up a super...   \n",
       "\n",
       "                                             subject  \\\n",
       "0  Sneak Peek: A look at the emerging data scienc...   \n",
       "1  Sneak Peek: A look at the emerging data scienc...   \n",
       "2  Sneak Peek: A look at the emerging data scienc...   \n",
       "3  Sneak Peek: A look at the emerging data scienc...   \n",
       "4  Sneak Peek: A look at the emerging data scienc...   \n",
       "5  Sneak Peek: A look at the emerging data scienc...   \n",
       "6  Sneak Peek: A look at the emerging data scienc...   \n",
       "7  Sneak Peek: A look at the emerging data scienc...   \n",
       "8  Sneak Peek: A look at the emerging data scienc...   \n",
       "9  Sneak Peek: A look at the emerging data scienc...   \n",
       "\n",
       "                                           email_url  \\\n",
       "0  http://r.newsletters.analyticsvidhya.com/7um44...   \n",
       "1  http://r.newsletters.analyticsvidhya.com/7um44...   \n",
       "2  http://r.newsletters.analyticsvidhya.com/7um44...   \n",
       "3  http://r.newsletters.analyticsvidhya.com/7um44...   \n",
       "4  http://r.newsletters.analyticsvidhya.com/7um44...   \n",
       "5  http://r.newsletters.analyticsvidhya.com/7um44...   \n",
       "6  http://r.newsletters.analyticsvidhya.com/7um44...   \n",
       "7  http://r.newsletters.analyticsvidhya.com/7um44...   \n",
       "8  http://r.newsletters.analyticsvidhya.com/7um44...   \n",
       "9  http://r.newsletters.analyticsvidhya.com/7um44...   \n",
       "\n",
       "   no_of_emails_is_open_bucket_avg_val  no_of_emails_is_click_bucket_avg_val  \\\n",
       "0                             0.106471                              0.009791   \n",
       "1                             0.106471                              0.009791   \n",
       "2                             0.106471                              0.009791   \n",
       "3                             0.106471                              0.009791   \n",
       "4                             0.106471                              0.009791   \n",
       "5                             0.106471                              0.009791   \n",
       "6                             0.106471                              0.009791   \n",
       "7                             0.106471                              0.009791   \n",
       "8                             0.106471                              0.009791   \n",
       "9                             0.106471                              0.009791   \n",
       "\n",
       "   user_id_is_click_bucket_avg_val  user_id_is_open_bucket_avg_val  user_id  \\\n",
       "0                         0.011316                        0.093078     4378   \n",
       "1                         0.011316                        0.093078     1070   \n",
       "2                         0.011316                        0.093078     4082   \n",
       "3                         0.011316                        0.093078      383   \n",
       "4                         0.011316                        0.093078     8163   \n",
       "5                         0.011316                        0.093078     4006   \n",
       "6                         0.011316                        0.093078      791   \n",
       "7                         0.011316                        0.093078     3814   \n",
       "8                         0.012050                        0.099892    11371   \n",
       "9                         0.012050                        0.099892    13551   \n",
       "\n",
       "         id  is_open  is_click  cumulative_count                date  \\\n",
       "0   29_4378        0         0                 1 2017-07-01 18:06:00   \n",
       "1   29_1070        1         0                 0 2017-07-01 18:14:00   \n",
       "2   29_4082        0         0                 0 2017-07-02 18:01:00   \n",
       "3    29_383        0         0                 1 2017-07-01 18:04:00   \n",
       "4   29_8163        0         0                 1 2017-07-02 18:02:00   \n",
       "5   29_4006        0         0                 0 2017-07-01 18:15:00   \n",
       "6    29_791        0         0                 1 2017-07-02 18:00:00   \n",
       "7   29_3814        0         0                 0 2017-07-01 18:04:00   \n",
       "8  29_11371        0         0                 0 2017-07-02 18:02:00   \n",
       "9  29_13551        1         0                 0 2017-07-01 18:11:00   \n",
       "\n",
       "   no_of_emails  has_opened  has_clicked  day_of_week  hour_of_day  \n",
       "0             2           0            0            5           18  \n",
       "1             1           1            0            5           18  \n",
       "2             1           0            0            6           18  \n",
       "3             2           0            0            5           18  \n",
       "4             2           0            0            6           18  \n",
       "5             1           0            0            5           18  \n",
       "6             2           0            0            6           18  \n",
       "7             2           1            0            5           18  \n",
       "8             1           0            0            6           18  \n",
       "9             1           1            0            5           18  "
      ]
     },
     "execution_count": 167,
     "metadata": {},
     "output_type": "execute_result"
    }
   ],
   "source": [
    "df_merge = campaign_data.merge(train, on = 'campaign_id')\n",
    "df_merge.head(10)"
   ]
  }
 ],
 "metadata": {
  "kernelspec": {
   "display_name": "Python 3",
   "language": "python",
   "name": "python3"
  },
  "language_info": {
   "codemirror_mode": {
    "name": "ipython",
    "version": 3
   },
   "file_extension": ".py",
   "mimetype": "text/x-python",
   "name": "python",
   "nbconvert_exporter": "python",
   "pygments_lexer": "ipython3",
   "version": "3.6.3"
  }
 },
 "nbformat": 4,
 "nbformat_minor": 2
}
