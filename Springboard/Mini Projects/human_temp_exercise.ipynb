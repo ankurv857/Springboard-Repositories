{
 "cells": [
  {
   "cell_type": "markdown",
   "metadata": {},
   "source": [
    "## What is the True Normal Human Body Temperature?\n",
    "\n",
    "\n",
    "#### Background\n",
    "\n",
    "The mean normal body temperature was held to be 37$^{\\circ}$C or 98.6$^{\\circ}$F for more than 120 years since it was first conceptualized and reported by Carl Wunderlich in a famous 1868 book. But, is this value statistically correct?"
   ]
  },
  {
   "cell_type": "code",
   "execution_count": 50,
   "metadata": {},
   "outputs": [
    {
     "data": {
      "text/html": [
       "<div>\n",
       "<style>\n",
       "    .dataframe thead tr:only-child th {\n",
       "        text-align: right;\n",
       "    }\n",
       "\n",
       "    .dataframe thead th {\n",
       "        text-align: left;\n",
       "    }\n",
       "\n",
       "    .dataframe tbody tr th {\n",
       "        vertical-align: top;\n",
       "    }\n",
       "</style>\n",
       "<table border=\"1\" class=\"dataframe\">\n",
       "  <thead>\n",
       "    <tr style=\"text-align: right;\">\n",
       "      <th></th>\n",
       "      <th>temperature</th>\n",
       "      <th>gender</th>\n",
       "      <th>heart_rate</th>\n",
       "    </tr>\n",
       "  </thead>\n",
       "  <tbody>\n",
       "    <tr>\n",
       "      <th>0</th>\n",
       "      <td>99.3</td>\n",
       "      <td>F</td>\n",
       "      <td>68.0</td>\n",
       "    </tr>\n",
       "    <tr>\n",
       "      <th>1</th>\n",
       "      <td>98.4</td>\n",
       "      <td>F</td>\n",
       "      <td>81.0</td>\n",
       "    </tr>\n",
       "    <tr>\n",
       "      <th>2</th>\n",
       "      <td>97.8</td>\n",
       "      <td>M</td>\n",
       "      <td>73.0</td>\n",
       "    </tr>\n",
       "    <tr>\n",
       "      <th>3</th>\n",
       "      <td>99.2</td>\n",
       "      <td>F</td>\n",
       "      <td>66.0</td>\n",
       "    </tr>\n",
       "    <tr>\n",
       "      <th>4</th>\n",
       "      <td>98.0</td>\n",
       "      <td>F</td>\n",
       "      <td>73.0</td>\n",
       "    </tr>\n",
       "  </tbody>\n",
       "</table>\n",
       "</div>"
      ],
      "text/plain": [
       "   temperature gender  heart_rate\n",
       "0         99.3      F        68.0\n",
       "1         98.4      F        81.0\n",
       "2         97.8      M        73.0\n",
       "3         99.2      F        66.0\n",
       "4         98.0      F        73.0"
      ]
     },
     "execution_count": 50,
     "metadata": {},
     "output_type": "execute_result"
    }
   ],
   "source": [
    "import pandas as pd\n",
    "import numpy as np\n",
    "import matplotlib.pyplot as plt\n",
    "import seaborn as sns\n",
    "import scipy.stats as stats\n",
    "import pylab\n",
    "import math \n",
    "\n",
    "sns.set()\n",
    "\n",
    "df = pd.read_csv('data/human_body_temperature.csv')\n",
    "df.head()"
   ]
  },
  {
   "cell_type": "markdown",
   "metadata": {},
   "source": [
    "Before we do any statistical analysis, we'll explore the data visually."
   ]
  },
  {
   "cell_type": "code",
   "execution_count": 51,
   "metadata": {},
   "outputs": [
    {
     "data": {
      "text/plain": [
       "count    130.000000\n",
       "mean      98.249231\n",
       "std        0.733183\n",
       "min       96.300000\n",
       "25%       97.800000\n",
       "50%       98.300000\n",
       "75%       98.700000\n",
       "max      100.800000\n",
       "Name: temperature, dtype: float64"
      ]
     },
     "execution_count": 51,
     "metadata": {},
     "output_type": "execute_result"
    }
   ],
   "source": [
    "df.temperature.describe()"
   ]
  },
  {
   "cell_type": "code",
   "execution_count": 52,
   "metadata": {},
   "outputs": [
    {
     "data": {
      "image/png": "[encoded data removed]",
      "text/plain": [
       "<matplotlib.figure.Figure at 0x1fa9f14d240>"
      ]
     },
     "metadata": {},
     "output_type": "display_data"
    }
   ],
   "source": [
    "plt.hist(df.temperature, bins = 15)\n",
    "plt.xlabel('Temperature (deg F)')\n",
    "plt.ylabel('frequency')\n",
    "plt.show()"
   ]
  },
  {
   "cell_type": "markdown",
   "metadata": {},
   "source": [
    "The histogram shows a somewhat normal distribution, but we should be aware that changing the bin width has a significant effect on the shape of the data.  We should explore further. "
   ]
  },
  {
   "cell_type": "code",
   "execution_count": 53,
   "metadata": {},
   "outputs": [
    {
     "data": {
      "image/png": "[encoded data removed]",
      "text/plain": [
       "<matplotlib.figure.Figure at 0x1fa9f1add30>"
      ]
     },
     "metadata": {},
     "output_type": "display_data"
    }
   ],
   "source": [
    "df['temperature'].plot(kind = 'density')\n",
    "plt.vlines(df['temperature'].mean(), ymin = 0, ymax = .53)\n",
    "plt.vlines(df['temperature'].median(), ymin = 0, ymax = .53, color = 'red')\n",
    "plt.legend(('density plot', 'mean', 'median'))\n",
    "plt.show()"
   ]
  },
  {
   "cell_type": "code",
   "execution_count": 54,
   "metadata": {
    "collapsed": true
   },
   "outputs": [],
   "source": [
    "def ecdf(data):\n",
    "    \"\"\"Compute ECDF for a one-dimensional array of measurements.\"\"\"\n",
    "    # Number of data points: n\n",
    "    n = len(data)\n",
    "\n",
    "    # x-data for the ECDF: x\n",
    "    x = np.sort(data)\n",
    "\n",
    "    # y-data for the ECDF: y\n",
    "    y = np.arange(1, len(x) + 1) / n\n",
    "\n",
    "    return x, y"
   ]
  },
  {
   "cell_type": "code",
   "execution_count": 55,
   "metadata": {
    "scrolled": true
   },
   "outputs": [
    {
     "data": {
      "image/png": "[encoded data removed]",
      "text/plain": [
       "<matplotlib.figure.Figure at 0x1fa9f244e48>"
      ]
     },
     "metadata": {},
     "output_type": "display_data"
    }
   ],
   "source": [
    "# Sample out of a normal distribution with this mu and sigma: samples\n",
    "samples = np.random.normal(np.mean(df.temperature),np.std(df.temperature),10000)\n",
    "x_theor, y_theor = ecdf(samples)\n",
    "temp_x, temp_y = ecdf(df['temperature'])\n",
    "\n",
    "plt.plot(x_theor, y_theor)\n",
    "plt.plot(temp_x, temp_y, marker = '.', linestyle = 'none')\n",
    "plt.xlabel(\"Temperature (deg F)\")\n",
    "plt.ylabel('ECDF')\n",
    "plt.legend(('normal', 'temperature data'))\n",
    "plt.show()"
   ]
  },
  {
   "cell_type": "markdown",
   "metadata": {},
   "source": [
    "### Q-Q Plot\n",
    "A Q-Q plot provides a graphical view of how properties such as location, scale, and skewness are smiliar in two distributions.  For this exercise, we'll compare the temperature data to a typical normal distribution.  General outline of the code seen below was found at:  https://stackoverflow.com/questions/13865596/quantile-quantile-plot-using-scipy"
   ]
  },
  {
   "cell_type": "code",
   "execution_count": 56,
   "metadata": {},
   "outputs": [
    {
     "data": {
      "image/png": "[encoded data removed]",
      "text/plain": [
       "<matplotlib.figure.Figure at 0x1fa9f206a20>"
      ]
     },
     "metadata": {},
     "output_type": "display_data"
    }
   ],
   "source": [
    "stats.probplot(df['temperature'], dist = 'norm', plot = pylab)\n",
    "pylab.show()"
   ]
  },
  {
   "cell_type": "markdown",
   "metadata": {},
   "source": [
    "We can see from the Q-Q plot that there appears to be some skewedness on both the left and right side of the distribution. "
   ]
  },
  {
   "cell_type": "markdown",
   "metadata": {},
   "source": [
    "### 1) Is the distribution of body temperatures normal?\n",
    "The data does appear to be normal. There is skewedness on both the left and right, as well as a high concentration of values between the median and third quartile, so to be safe, we'll perform a test for normality.\n",
    "\n",
    "Scipy has a function to test whether a sample differs from a normal distribution.\n",
    "\n",
    "\"The function tests the null hypothesis that a sample comes from a normal distribution. It is based on D’Agostino and Pearson’s test that combines skew and kurtosis to produce an omnibus test of normality.\"\n",
    "https://docs.scipy.org/doc/scipy-0.14.0/reference/generated/scipy.stats.normaltest.html"
   ]
  },
  {
   "cell_type": "code",
   "execution_count": 57,
   "metadata": {},
   "outputs": [
    {
     "name": "stdout",
     "output_type": "stream",
     "text": [
      "p = 0.258748\n",
      "The null hypothesis cannot be rejected\n"
     ]
    }
   ],
   "source": [
    "k2, p = stats.normaltest(df['temperature'])\n",
    "alpha = 1e-3\n",
    "print(\"p = {:g}\".format(p))\n",
    "\n",
    "if p < alpha:  # null hypothesis: df['temperature'] comes from a normal distribution\n",
    "    print(\"The null hypothesis can be rejected\")\n",
    "else:\n",
    "    print(\"The null hypothesis cannot be rejected\")"
   ]
  },
  {
   "cell_type": "markdown",
   "metadata": {},
   "source": [
    "At the .05 level of significance, we fail to reject the null hypothesis.  We do not have evidence that the data does not come from a normal population.  Note that this is not the same as a  guarantee of normality. "
   ]
  },
  {
   "cell_type": "markdown",
   "metadata": {},
   "source": [
    "### 2) Is the sample size large? Are the observations independent?"
   ]
  },
  {
   "cell_type": "code",
   "execution_count": 58,
   "metadata": {},
   "outputs": [
    {
     "name": "stdout",
     "output_type": "stream",
     "text": [
      "Sample size:  130\n"
     ]
    }
   ],
   "source": [
    "print('Sample size: ', len(df.temperature))"
   ]
  },
  {
   "cell_type": "markdown",
   "metadata": {},
   "source": [
    "The central limit theorem requires a sample size larger than 30 with independent sampling. Since we have 130 samples, and one person's body temperature has no effect on another, both conditions are satisfied."
   ]
  },
  {
   "cell_type": "markdown",
   "metadata": {},
   "source": [
    "## 3) Is the true population mean really 98.6 degrees F?\n",
    "We will perform a 1-sample test for means.  For sample sizes larger than 30, it's best to use the z-statistic, but because the population standard deviation is unknown, we approximate it with our sample standard deviation.  This will give us the same test statistic for either test.  The only difference is  in calculating the p-value.\n",
    "\n",
    "\\begin{equation}t = \\frac{(\\bar{x} – μ)}{\\frac{s}{\\sqrt{n}}}\\end{equation}\n",
    "\n",
    "\n",
    "\\begin{equation} H_0 : \\mu = 98.6  \\end{equation}\n",
    "\n",
    "\\begin{equation}H_A: \\mu \\neq 98.6 \\end{equation}"
   ]
  },
  {
   "cell_type": "code",
   "execution_count": 59,
   "metadata": {},
   "outputs": [
    {
     "name": "stdout",
     "output_type": "stream",
     "text": [
      "test statistic = -5.475925202078116\n",
      "z-test p-value = 4.35231516588e-08\n"
     ]
    }
   ],
   "source": [
    "mean = np.mean(df.temperature)\n",
    "std = np.std(df.temperature)\n",
    "n = len(df.temperature)\n",
    "test_statistic = (mean - 98.6) / (std / math.sqrt(n)) \n",
    "print('test statistic =',test_statistic)\n",
    "print('z-test p-value =', stats.norm.cdf(test_statistic)*2)"
   ]
  },
  {
   "cell_type": "code",
   "execution_count": 60,
   "metadata": {},
   "outputs": [
    {
     "name": "stdout",
     "output_type": "stream",
     "text": [
      " (test statistic,      p-value)\n",
      " (-5.4548232923645195, 4.9021570141012155e-08)\n"
     ]
    }
   ],
   "source": [
    "# alternate method of doing the same thing\n",
    "from statsmodels.stats import weightstats as stests\n",
    "\n",
    "test_result = stests.ztest(df.temperature, value = 98.6)\n",
    "print(\" (test statistic,      p-value)\\n\", test_result)"
   ]
  },
  {
   "cell_type": "markdown",
   "metadata": {},
   "source": [
    "Our p-value suggests that obtaining a mean equal to that of our sample is very unlikely assuming that 98.6 is the true population mean.  We reject the null hypothesis and state that the true population mean is not 98.6 degrees F.\n",
    "\n",
    "For comparison, we'll compute the p-value using a t-test."
   ]
  },
  {
   "cell_type": "code",
   "execution_count": 61,
   "metadata": {},
   "outputs": [
    {
     "name": "stdout",
     "output_type": "stream",
     "text": [
      "t-test p-value =  2.18874646241e-07\n"
     ]
    }
   ],
   "source": [
    "print('t-test p-value = ',stats.t.cdf(x = test_statistic, df =len(df['temperature']) - 1)*2)"
   ]
  },
  {
   "cell_type": "code",
   "execution_count": 62,
   "metadata": {},
   "outputs": [
    {
     "data": {
      "text/plain": [
       "Ttest_1sampResult(statistic=-5.4548232923645195, pvalue=2.4106320415561276e-07)"
      ]
     },
     "execution_count": 62,
     "metadata": {},
     "output_type": "execute_result"
    }
   ],
   "source": [
    "# alternate way of doing the same thing\n",
    "stats.ttest_1samp(df['temperature'], 98.6)"
   ]
  },
  {
   "cell_type": "markdown",
   "metadata": {},
   "source": [
    "We see a similarily low p-value using a t-test.  It's not as low because the t-distribution carries more weight in the tails, but it is still stastically significant."
   ]
  },
  {
   "cell_type": "markdown",
   "metadata": {},
   "source": [
    "## 4) Draw a small sample of size 10 from the data and repeat both tests."
   ]
  },
  {
   "cell_type": "code",
   "execution_count": 63,
   "metadata": {
    "scrolled": true
   },
   "outputs": [
    {
     "name": "stdout",
     "output_type": "stream",
     "text": [
      "test statistic = -1.19735094651\n",
      "z-test p-value = 0.231169794703\n",
      "t-test p-value = 0.261753505465\n"
     ]
    }
   ],
   "source": [
    "small_sample = np.random.choice(df.temperature, size = 10)\n",
    "\n",
    "mean_ss = np.mean(small_sample)\n",
    "std_ss = np.std(small_sample)\n",
    "n_ss = len(small_sample)\n",
    "test_statistic_ss = (mean_ss - 98.6) / (std_ss / math.sqrt(n_ss)) \n",
    "\n",
    "print('test statistic =',test_statistic_ss)\n",
    "print('z-test p-value =', stats.norm.cdf(test_statistic_ss)*2)\n",
    "print('t-test p-value =', stats.t.cdf(x = test_statistic_ss, df =len(small_sample) - 1)*2)"
   ]
  },
  {
   "cell_type": "markdown",
   "metadata": {},
   "source": [
    "Changing the sample size indicates the sensitivity of the sample size when using a t-test.  As n increases, the t distribution is approximately normal."
   ]
  },
  {
   "cell_type": "markdown",
   "metadata": {},
   "source": [
    "## 5) At what temperature should we consider someone's temperature to be \"abnormal\"?"
   ]
  },
  {
   "cell_type": "code",
   "execution_count": 64,
   "metadata": {
    "collapsed": true
   },
   "outputs": [],
   "source": [
    "se = std / math.sqrt(n)"
   ]
  },
  {
   "cell_type": "code",
   "execution_count": 65,
   "metadata": {},
   "outputs": [
    {
     "name": "stdout",
     "output_type": "stream",
     "text": [
      "We are 95% confident that the true mean body temperature is between 98.12367980442819 and 98.37478173403336 degrees Fahrenheit.\n"
     ]
    }
   ],
   "source": [
    "low = np.mean(df.temperature) - 1.96*se\n",
    "high = np.mean(df.temperature) + 1.96*se\n",
    "print('We are 95% confident that the true mean body temperature is between', low, 'and', high, 'degrees Fahrenheit.')"
   ]
  },
  {
   "cell_type": "markdown",
   "metadata": {
    "collapsed": true
   },
   "source": [
    "We could consider anything outside of this range to be abnormal for a mean temperature.  95% of the samples we take will have a mean within this range."
   ]
  },
  {
   "cell_type": "markdown",
   "metadata": {},
   "source": [
    "## 6) Is there a significant difference between males and females in normal temperature?"
   ]
  },
  {
   "cell_type": "markdown",
   "metadata": {},
   "source": [
    "To determine if there is a difference, we'll perform a 2-sample t-test for sample means with the null hypothesis:\n",
    "\\begin{equation} H_0 : \\mu_M = \\mu_F  \\end{equation}\n",
    "\n",
    "\\begin{equation}H_A:  \\mu_M \\neq \\mu_F \\end{equation}\n"
   ]
  },
  {
   "cell_type": "code",
   "execution_count": 66,
   "metadata": {
    "collapsed": true
   },
   "outputs": [],
   "source": [
    "male = df[df.gender == 'M']\n",
    "female = df[df.gender == 'F']\n",
    "\n",
    "mean_male = np.mean(male.temperature)\n",
    "var_male = np.var(male.temperature)\n",
    "n_male = len(male.temperature)\n",
    "\n",
    "mean_female = np.mean(female.temperature)\n",
    "var_female = np.var(female.temperature)\n",
    "n_female = len(female.temperature)"
   ]
  },
  {
   "cell_type": "code",
   "execution_count": 67,
   "metadata": {},
   "outputs": [
    {
     "name": "stdout",
     "output_type": "stream",
     "text": [
      "test statistic = -2.3032202891940123\n",
      "z-test p-value = 0.0212664518301\n"
     ]
    }
   ],
   "source": [
    "test_stat_diff = (mean_male - mean_female) / math.sqrt((var_male/n_male) + (var_female/n_female))\n",
    "print('test statistic =', test_stat_diff)\n",
    "print('z-test p-value =', stats.norm.cdf(test_stat_diff)*2)"
   ]
  },
  {
   "cell_type": "code",
   "execution_count": 68,
   "metadata": {},
   "outputs": [
    {
     "data": {
      "text/plain": [
       "Ttest_indResult(statistic=-2.2854345381656112, pvalue=0.023938264182934196)"
      ]
     },
     "execution_count": 68,
     "metadata": {},
     "output_type": "execute_result"
    }
   ],
   "source": [
    "# alternate way of doing the same thing\n",
    "stats.ttest_ind(a=male.temperature,b=female.temperature,equal_var=False)"
   ]
  },
  {
   "cell_type": "markdown",
   "metadata": {},
   "source": [
    "At the .05 level of significance, we reject the null hyptothesis and state that there is a difference between the mean temperature of males vs. females."
   ]
  },
  {
   "cell_type": "code",
   "execution_count": 69,
   "metadata": {},
   "outputs": [
    {
     "data": {
      "image/png": "[encoded data removed]",
      "text/plain": [
       "<matplotlib.figure.Figure at 0x1fa9f3230f0>"
      ]
     },
     "metadata": {},
     "output_type": "display_data"
    }
   ],
   "source": [
    "male.temperature.plot(kind = 'density')\n",
    "female.temperature.plot(kind = 'density')\n",
    "plt.vlines(male.temperature.mean(), ymin = 0, ymax = .49, color = 'blue')\n",
    "plt.vlines(female.temperature.mean(), ymin = 0, ymax = .57, color = 'green')\n",
    "plt.legend(('male density plot', 'female density plot', 'male mean', 'female mean'))\n",
    "plt.show()"
   ]
  },
  {
   "cell_type": "markdown",
   "metadata": {},
   "source": [
    "## Conclusion\n",
    "\n",
    "From the analysis, we can conclude our understanding of typical body temperature is incomplete, assuming that the population follows a normal distribution.  While body temperatures are almost certainly not 98.6 degrees F on average, it is worth investigating what other factors contribute to body temperature.  Furthermore, it's appropriate to state that the mean temperature differs between genders.  "
   ]
  }
 ],
 "metadata": {
  "kernelspec": {
   "display_name": "Python 3",
   "language": "python",
   "name": "python3"
  },
  "language_info": {
   "codemirror_mode": {
    "name": "ipython",
    "version": 3
   },
   "file_extension": ".py",
   "mimetype": "text/x-python",
   "name": "python",
   "nbconvert_exporter": "python",
   "pygments_lexer": "ipython3",
   "version": "3.6.3"
  }
 },
 "nbformat": 4,
 "nbformat_minor": 2
}
