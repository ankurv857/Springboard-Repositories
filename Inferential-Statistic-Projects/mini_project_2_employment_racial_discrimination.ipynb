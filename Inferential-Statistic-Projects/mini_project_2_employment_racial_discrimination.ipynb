{
 "cells": [
  {
   "cell_type": "markdown",
   "metadata": {},
   "source": [
    "# Examining Racial Discrimination in the US Job Market\n",
    "\n",
    "### Background\n",
    "Racial discrimination continues to be pervasive in cultures throughout the world. Researchers examined the level of racial discrimination in the United States labor market by randomly assigning identical résumés to black-sounding or white-sounding names and observing the impact on requests for interviews from employers.\n",
    "\n",
    "### Data\n",
    "In the dataset provided, each row represents a resume. The 'race' column has two values, 'b' and 'w', indicating black-sounding and white-sounding. The column 'call' has two values, 1 and 0, indicating whether the resume received a call from employers or not.\n",
    "\n",
    "Note that the 'b' and 'w' values in race are assigned randomly to the resumes when presented to the employer."
   ]
  },
  {
   "cell_type": "markdown",
   "metadata": {},
   "source": [
    "#### Resources\n",
    "+ Experiment information and data source: http://www.povertyactionlab.org/evaluation/discrimination-job-market-united-states\n",
    "****"
   ]
  },
  {
   "cell_type": "code",
   "execution_count": 12,
   "metadata": {
    "collapsed": true
   },
   "outputs": [],
   "source": [
    "import pandas as pd\n",
    "import numpy as np\n",
    "import statsmodels.stats.proportion as pstats\n",
    "import scipy.stats as stats"
   ]
  },
  {
   "cell_type": "code",
   "execution_count": 4,
   "metadata": {
    "collapsed": true
   },
   "outputs": [],
   "source": [
    "data = pd.io.stata.read_stata('data/us_job_market_discrimination.dta')"
   ]
  },
  {
   "cell_type": "code",
   "execution_count": 5,
   "metadata": {
    "scrolled": true
   },
   "outputs": [
    {
     "name": "stdout",
     "output_type": "stream",
     "text": [
      "<class 'pandas.core.frame.DataFrame'>\n",
      "Int64Index: 4870 entries, 0 to 4869\n",
      "Data columns (total 65 columns):\n",
      "id                    4870 non-null object\n",
      "ad                    4870 non-null object\n",
      "education             4870 non-null int8\n",
      "ofjobs                4870 non-null int8\n",
      "yearsexp              4870 non-null int8\n",
      "honors                4870 non-null int8\n",
      "volunteer             4870 non-null int8\n",
      "military              4870 non-null int8\n",
      "empholes              4870 non-null int8\n",
      "occupspecific         4870 non-null int16\n",
      "occupbroad            4870 non-null int8\n",
      "workinschool          4870 non-null int8\n",
      "email                 4870 non-null int8\n",
      "computerskills        4870 non-null int8\n",
      "specialskills         4870 non-null int8\n",
      "firstname             4870 non-null object\n",
      "sex                   4870 non-null object\n",
      "race                  4870 non-null object\n",
      "h                     4870 non-null float32\n",
      "l                     4870 non-null float32\n",
      "call                  4870 non-null float32\n",
      "city                  4870 non-null object\n",
      "kind                  4870 non-null object\n",
      "adid                  4870 non-null float32\n",
      "fracblack             4784 non-null float32\n",
      "fracwhite             4784 non-null float32\n",
      "lmedhhinc             4784 non-null float32\n",
      "fracdropout           4784 non-null float32\n",
      "fraccolp              4784 non-null float32\n",
      "linc                  4784 non-null float32\n",
      "col                   4870 non-null float32\n",
      "expminreq             4870 non-null object\n",
      "schoolreq             4870 non-null object\n",
      "eoe                   4870 non-null float32\n",
      "parent_sales          1672 non-null float32\n",
      "parent_emp            1722 non-null float32\n",
      "branch_sales          608 non-null float32\n",
      "branch_emp            658 non-null float32\n",
      "fed                   3102 non-null float32\n",
      "fracblack_empzip      1918 non-null float32\n",
      "fracwhite_empzip      1918 non-null float32\n",
      "lmedhhinc_empzip      1908 non-null float32\n",
      "fracdropout_empzip    1918 non-null float32\n",
      "fraccolp_empzip       1918 non-null float32\n",
      "linc_empzip           1918 non-null float32\n",
      "manager               4870 non-null float32\n",
      "supervisor            4870 non-null float32\n",
      "secretary             4870 non-null float32\n",
      "offsupport            4870 non-null float32\n",
      "salesrep              4870 non-null float32\n",
      "retailsales           4870 non-null float32\n",
      "req                   4870 non-null float32\n",
      "expreq                4870 non-null float32\n",
      "comreq                4870 non-null float32\n",
      "educreq               4870 non-null float32\n",
      "compreq               4870 non-null float32\n",
      "orgreq                4870 non-null float32\n",
      "manuf                 4870 non-null float32\n",
      "transcom              4870 non-null float32\n",
      "bankreal              4870 non-null float32\n",
      "trade                 4870 non-null float32\n",
      "busservice            4870 non-null float32\n",
      "othservice            4870 non-null float32\n",
      "missind               4870 non-null float32\n",
      "ownership             4870 non-null object\n",
      "dtypes: float32(42), int16(1), int8(12), object(10)\n",
      "memory usage: 1.3+ MB\n"
     ]
    }
   ],
   "source": [
    "data.info()"
   ]
  },
  {
   "cell_type": "code",
   "execution_count": 6,
   "metadata": {},
   "outputs": [
    {
     "name": "stdout",
     "output_type": "stream",
     "text": [
      "Number of callbacks for black-sounding names is 157.0\n",
      "Number of callbacks for white-sounding names is 235.0\n",
      "Total number of resume with black-sounding names is 2435\n",
      "Total number of resume with black-sounding names is 2435\n"
     ]
    }
   ],
   "source": [
    "print(\"Number of callbacks for black-sounding names is\", sum(data[data.race=='b'].call))\n",
    "print(\"Number of callbacks for white-sounding names is\", sum(data[data.race=='w'].call))\n",
    "print(\"Total number of resume with black-sounding names is\", sum(data.race=='b'))\n",
    "print(\"Total number of resume with black-sounding names is\", sum(data.race=='w'))"
   ]
  },
  {
   "cell_type": "code",
   "execution_count": 7,
   "metadata": {
    "collapsed": true
   },
   "outputs": [],
   "source": [
    "# Extracting the columns of interest \"race\" and \"call\" to dataframe df, and separate it into two group of data \n",
    "# of different races\n",
    "df = data.loc[:,['race','call']]\n",
    "df_b = df[df.race=='b']\n",
    "df_w = df[df.race=='w']"
   ]
  },
  {
   "cell_type": "markdown",
   "metadata": {},
   "source": [
    "__ Q1. What test is appropriate for this problem? Does CLT apply? __\n",
    "\n",
    "The two sample hypothesis test for difference of proportion would be approapriate here. \n",
    "\n",
    "When we want to carry out inferences on one population (build a confidence interval or do a significance test), the accuracy of our methods depend on a few conditions. It's important to check whether or not these conditions have been met, otherwise the calculations and conclusions that follow aren't actually valid.\n",
    "\n",
    "The conditions are\n",
    "\n",
    "Independence: which can be simply examined by the 10% rule. The 10% rule says that if the sample size is less than the 10% of the population size, then the sample is independent.\n",
    "The distribution needs to be approximately normal. It needs the sample has at least 10 success and 10 failure.\n",
    "Randomization: which means the data needs to come from a random sample or randomized experiment.\n",
    "\n",
    "In our case, all conditions are met."
   ]
  },
  {
   "cell_type": "markdown",
   "metadata": {},
   "source": [
    "__ Q2. What are the null and alternate hypotheses? __\n",
    "\n",
    "The null hypotheses is that a resume with a white-sounding name has equal chance of callback success rate to that of a  resume witha black-sounding name. And the alternate hypotheses is that the change does have effect to the call back success."
   ]
  },
  {
   "cell_type": "markdown",
   "metadata": {},
   "source": [
    "__ Q3. Compute margin of error, confidence interval, and p-value. __\n",
    "\n",
    "Let's explicitly set the significance level to 5% beforehand. "
   ]
  },
  {
   "cell_type": "code",
   "execution_count": 8,
   "metadata": {},
   "outputs": [
    {
     "name": "stdout",
     "output_type": "stream",
     "text": [
      "Number of callbacks for black-sounding names:      235\n",
      "Total number of resume with black-sounding names:  2435\n",
      "Number of callbacks for white-sounding names:      157\n",
      "Total number of resume with black-sounding names:  2435\n"
     ]
    }
   ],
   "source": [
    "# number of callback success in df_w.\n",
    "s1 = sum(df_w.call)\n",
    "# total number of trial in df_w.\n",
    "n1 = df_w.race.size\n",
    "# number of callback success in df_b.\n",
    "s2 = sum(df_b.call)\n",
    "# total number of trial in df_b.\n",
    "n2 = df_b.race.size\n",
    "\n",
    "print(\"Number of callbacks for black-sounding names:      %.f\"%s1)\n",
    "print(\"Total number of resume with black-sounding names:  %d\" %n1)\n",
    "print(\"Number of callbacks for white-sounding names:      %.f\"%s2)\n",
    "print(\"Total number of resume with black-sounding names:  %d\" %n2)"
   ]
  },
  {
   "cell_type": "code",
   "execution_count": 9,
   "metadata": {},
   "outputs": [
    {
     "name": "stdout",
     "output_type": "stream",
     "text": [
      "Callback success rate of a resume with a white-sounding name is 0.10.\n",
      "Callback success rate of a resume with a black-sounding name is 0.06.\n",
      "A resume with white-sounding name has a 0.03 percent higher callback success rate than that of a resume with a back-sounding name.\n"
     ]
    }
   ],
   "source": [
    "# callback success rate of a resume with a white-sounding name. \n",
    "rate_w = s1/n1\n",
    "# callback success rate of a resume with a black-sounding name. \n",
    "rate_b = s2/n2\n",
    "# the observed difference of proportion\n",
    "prop_diff = rate_w - rate_b\n",
    "\n",
    "print('Callback success rate of a resume with a white-sounding name is %.2f.' %rate_w)\n",
    "print('Callback success rate of a resume with a black-sounding name is %.2f.' %rate_b)\n",
    "print('A resume with white-sounding name has a %.2f percent higher callback success rate than that of a resume with a \\\n",
    "back-sounding name.'%prop_diff)"
   ]
  },
  {
   "cell_type": "markdown",
   "metadata": {},
   "source": [
    "Assume the null hypothesis is correct, let's calculate the probability that the difference of callback success rate is at least as large as observed. "
   ]
  },
  {
   "cell_type": "code",
   "execution_count": 37,
   "metadata": {},
   "outputs": [
    {
     "name": "stdout",
     "output_type": "stream",
     "text": [
      "The probability that the null hypothesis is correct is only 1.99194341879e-05\n",
      "The 95% confidence interval of the difference of callback success rate is from 0.017 to 0.047.\n",
      "The margin of error is 0.015.\n"
     ]
    }
   ],
   "source": [
    "z,p = pstats.proportions_ztest([s1,s2],[n1,n2],alternative='larger')\n",
    "# the standard deviation of the sampling distribution of difference of proportion.\n",
    "theta = np.sqrt(rate_w*(1-rate_w)/n1+rate_b*(1-rate_b)/n2)\n",
    "# confidence interval:\n",
    "low,high = stats.norm.interval(0.95,loc=prop_diff,scale=theta)\n",
    "# margin of error:\n",
    "moe = (high-low)/2\n",
    "\n",
    "print('The probability that the null hypothesis is correct is only',p)\n",
    "print(\"The 95%% confidence interval of the difference of callback success rate is from %.3f to %.3f.\"%(low,high))\n",
    "print(\"The margin of error is %.3f.\" %moe)"
   ]
  },
  {
   "cell_type": "markdown",
   "metadata": {},
   "source": [
    "This tells us that a resume with a white-sounding name does has a higher callback success rate, because even the lower end of the 95% confidence interval is bigger than 0. "
   ]
  },
  {
   "cell_type": "markdown",
   "metadata": {},
   "source": [
    "__ Q4. Does the analysis mean that race/name is the most important factor in callback succes? If not, how to amend the analysis?__\n",
    "\n",
    "This analysis does not mean that race/name is the most important factor in callback success. It only proves that the race/name has an effect to the callback success. In order to find our the most important factor, I would calculate the pearson-correlation-coefficient between the callback rate and other quanlities and find the quanlity which are most positively correlated to the callback success. "
   ]
  },
  {
   "cell_type": "code",
   "execution_count": null,
   "metadata": {
    "collapsed": true
   },
   "outputs": [],
   "source": []
  }
 ],
 "metadata": {
  "kernelspec": {
   "display_name": "Python 3",
   "language": "python",
   "name": "python3"
  },
  "language_info": {
   "codemirror_mode": {
    "name": "ipython",
    "version": 3
   },
   "file_extension": ".py",
   "mimetype": "text/x-python",
   "name": "python",
   "nbconvert_exporter": "python",
   "pygments_lexer": "ipython3",
   "version": "3.6.2"
  }
 },
 "nbformat": 4,
 "nbformat_minor": 1
}
