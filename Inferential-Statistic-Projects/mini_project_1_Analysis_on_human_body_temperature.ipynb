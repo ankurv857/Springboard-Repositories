{
 "cells": [
  {
   "cell_type": "markdown",
   "metadata": {},
   "source": [
    "# What is the True Normal Human Body Temperature? \n",
    "\n",
    "#### Background\n",
    "\n",
    "The mean normal body temperature was held to be 37$^{\\circ}$C or 98.6$^{\\circ}$F for more than 120 years since it was first conceptualized and reported by Carl Wunderlich in a famous 1868 book. But, is this value statistically correct?"
   ]
  },
  {
   "cell_type": "markdown",
   "metadata": {},
   "source": [
    "#### Resources\n",
    "\n",
    "+ Information and data sources: http://www.amstat.org/publications/jse/datasets/normtemp.txt, http://www.amstat.org/publications/jse/jse_data_archive.htm\n",
    "\n",
    "****"
   ]
  },
  {
   "cell_type": "code",
   "execution_count": 1,
   "metadata": {
    "collapsed": true
   },
   "outputs": [],
   "source": [
    "import pandas as pd\n",
    "import numpy as np\n",
    "import matplotlib.pyplot as plt\n",
    "import seaborn as sns\n",
    "import statsmodels.stats.weightstats as wstats\n",
    "import scipy.stats as stats\n",
    "\n",
    "np.random.seed(42)\n",
    "sns.set()\n",
    "\n",
    "df = pd.read_csv('data/human_body_temperature.csv')\n",
    "\n",
    "def ecdf(data):\n",
    "    '''Compute ECDF for one-dimensional array of measurements'''\n",
    "    \n",
    "    # Number of data points:\n",
    "    n = len(data)\n",
    "    \n",
    "    # x-data for the ECDF:\n",
    "    x = np.sort(data)\n",
    "    \n",
    "    # y-data for the ECDF:\n",
    "    y = np.arange(1, n+1)/n\n",
    "    \n",
    "    return x,y"
   ]
  },
  {
   "cell_type": "code",
   "execution_count": 2,
   "metadata": {},
   "outputs": [
    {
     "name": "stdout",
     "output_type": "stream",
     "text": [
      "<class 'pandas.core.frame.DataFrame'>\n",
      "RangeIndex: 130 entries, 0 to 129\n",
      "Data columns (total 3 columns):\n",
      "temperature    130 non-null float64\n",
      "gender         130 non-null object\n",
      "heart_rate     130 non-null float64\n",
      "dtypes: float64(2), object(1)\n",
      "memory usage: 3.1+ KB\n"
     ]
    }
   ],
   "source": [
    "df.info()"
   ]
  },
  {
   "cell_type": "code",
   "execution_count": 3,
   "metadata": {},
   "outputs": [
    {
     "data": {
      "text/html": [
       "<div>\n",
       "<style>\n",
       "    .dataframe thead tr:only-child th {\n",
       "        text-align: right;\n",
       "    }\n",
       "\n",
       "    .dataframe thead th {\n",
       "        text-align: left;\n",
       "    }\n",
       "\n",
       "    .dataframe tbody tr th {\n",
       "        vertical-align: top;\n",
       "    }\n",
       "</style>\n",
       "<table border=\"1\" class=\"dataframe\">\n",
       "  <thead>\n",
       "    <tr style=\"text-align: right;\">\n",
       "      <th></th>\n",
       "      <th>temperature</th>\n",
       "      <th>gender</th>\n",
       "      <th>heart_rate</th>\n",
       "    </tr>\n",
       "  </thead>\n",
       "  <tbody>\n",
       "    <tr>\n",
       "      <th>0</th>\n",
       "      <td>99.3</td>\n",
       "      <td>F</td>\n",
       "      <td>68.0</td>\n",
       "    </tr>\n",
       "    <tr>\n",
       "      <th>1</th>\n",
       "      <td>98.4</td>\n",
       "      <td>F</td>\n",
       "      <td>81.0</td>\n",
       "    </tr>\n",
       "    <tr>\n",
       "      <th>2</th>\n",
       "      <td>97.8</td>\n",
       "      <td>M</td>\n",
       "      <td>73.0</td>\n",
       "    </tr>\n",
       "    <tr>\n",
       "      <th>3</th>\n",
       "      <td>99.2</td>\n",
       "      <td>F</td>\n",
       "      <td>66.0</td>\n",
       "    </tr>\n",
       "    <tr>\n",
       "      <th>4</th>\n",
       "      <td>98.0</td>\n",
       "      <td>F</td>\n",
       "      <td>73.0</td>\n",
       "    </tr>\n",
       "  </tbody>\n",
       "</table>\n",
       "</div>"
      ],
      "text/plain": [
       "   temperature gender  heart_rate\n",
       "0         99.3      F        68.0\n",
       "1         98.4      F        81.0\n",
       "2         97.8      M        73.0\n",
       "3         99.2      F        66.0\n",
       "4         98.0      F        73.0"
      ]
     },
     "execution_count": 3,
     "metadata": {},
     "output_type": "execute_result"
    }
   ],
   "source": [
    "df.head()"
   ]
  },
  {
   "cell_type": "code",
   "execution_count": 4,
   "metadata": {
    "collapsed": true
   },
   "outputs": [],
   "source": [
    "# Convert Temerature from Fahrenheit to Celsius.\n",
    "df.temperature = (df.temperature-32)/1.8"
   ]
  },
  {
   "cell_type": "code",
   "execution_count": 5,
   "metadata": {},
   "outputs": [
    {
     "data": {
      "text/plain": [
       "0    37.388889\n",
       "1    36.888889\n",
       "2    36.555556\n",
       "3    37.333333\n",
       "4    36.666667\n",
       "Name: temperature, dtype: float64"
      ]
     },
     "execution_count": 5,
     "metadata": {},
     "output_type": "execute_result"
    }
   ],
   "source": [
    "df.temperature[:5]"
   ]
  },
  {
   "cell_type": "markdown",
   "metadata": {},
   "source": [
    "___"
   ]
  },
  {
   "cell_type": "markdown",
   "metadata": {},
   "source": [
    "Look before leap, let's graphically examine the distribution of the data first.\n",
    "\n",
    "__ Q1. Is the distribution of body temperature normal? __"
   ]
  },
  {
   "cell_type": "code",
   "execution_count": 6,
   "metadata": {
    "collapsed": true
   },
   "outputs": [],
   "source": [
    "mean = np.mean(df.temperature)\n",
    "std = np.std(df.temperature)\n",
    "samples = np.random.normal(mean,std,size=10000)\n",
    "x,y = ecdf(df.temperature)\n",
    "x_theor, y_theor = ecdf(samples)"
   ]
  },
  {
   "cell_type": "code",
   "execution_count": 7,
   "metadata": {},
   "outputs": [
    {
     "data": {
      "image/png": "[encoded data removed]",
      "text/plain": [
       "<matplotlib.figure.Figure at 0x1a09dc4198>"
      ]
     },
     "metadata": {},
     "output_type": "display_data"
    }
   ],
   "source": [
    "_ = plt.plot(x_theor,y_theor)\n",
    "_ = plt.plot(x, y, marker='.', linestyle = 'none')\n",
    "_ = plt.xlabel('human temperature')\n",
    "_ = plt.ylabel('CDF')\n",
    "_ = plt.legend(('Normal CDF','ECDF'))\n",
    "plt.show()"
   ]
  },
  {
   "cell_type": "markdown",
   "metadata": {},
   "source": [
    "__ Answer to Q1: __\n",
    "\n",
    "By comparing the ECDF of data to normal cdf, we can draw conclusion that distribution of sample data is normal. \n",
    "The distribution of body temperature is normal if we assume this sample is representative of the population."
   ]
  },
  {
   "cell_type": "markdown",
   "metadata": {},
   "source": [
    "___"
   ]
  },
  {
   "cell_type": "markdown",
   "metadata": {},
   "source": [
    "When we want to carry out inferences on one population (build a confidence interval or do a significance test), the accuracy of our methods depend on a few conditions. It's important to check whether or not these conditions have been met, otherwise the calculations and conclusions that follow aren't actually valid.\n",
    "\n",
    "* Independence: which can be simply examined by the 10% rule. The 10% rule says that if the sample size is less than the 10% of the population size, then the sample is independent. \n",
    "* The distribution needs to be approximately normal: which require the sample size to be big enough.\n",
    "* Randomization: which means the data needs to come from a random sample or randomized experiment. \n",
    "\n",
    "__ Q2. Is the sample size large? Are the observations independent? __"
   ]
  },
  {
   "cell_type": "markdown",
   "metadata": {},
   "source": [
    "__ Answer to Q2: __\n",
    "\n",
    "As a rule of thumb, sample size larger than 30 is considered to be large enough for the CLT to hold true.\n",
    "As for randomization, since the population size is very big we can assume that each sample represent a random sample from the population."
   ]
  },
  {
   "cell_type": "markdown",
   "metadata": {},
   "source": [
    "___"
   ]
  },
  {
   "cell_type": "markdown",
   "metadata": {
    "collapsed": true
   },
   "source": [
    "Now, after making sure that the conditions for hypothesis test are met, we could proceed and ask\n",
    "\n",
    "__ Q3. Is the true population mean really 37 degrees C? __\n",
    "\n",
    "Since the hypothesis is about relation between a dataset and a single value and the sample size is large, A two-sided one-sample z test for mean should be used. "
   ]
  },
  {
   "cell_type": "markdown",
   "metadata": {},
   "source": [
    "However, in order to explore the difference between t and z statistic.\n",
    "Let's conduct one sample Z-test and T-test for mean and see the difference."
   ]
  },
  {
   "cell_type": "code",
   "execution_count": 8,
   "metadata": {},
   "outputs": [
    {
     "name": "stdout",
     "output_type": "stream",
     "text": [
      "sample_mean:                     36.80512820512821\n",
      "sample_std:                      0.40732397668830306\n",
      "sample_size:                     130\n",
      "SEM (standard error of mean):    0.0357246760211\n",
      "DoF(degree of freedom):          129\n",
      "hypo_mean (hypothetical mean):   37\n",
      "\n"
     ]
    }
   ],
   "source": [
    "sample_mean = df.temperature.mean()\n",
    "sample_std = df.temperature.std()\n",
    "sample_size = df.temperature.size\n",
    "SEM = sample_std/np.sqrt(sample_size)\n",
    "DoF = sample_size-1\n",
    "hypo_mean = 37\n",
    "test_stats = (sample_mean - hypo_mean)/SEM\n",
    "print(\"sample_mean:                    \",sample_mean)\n",
    "print(\"sample_std:                     \",sample_std)\n",
    "print(\"sample_size:                    \",sample_size)\n",
    "print(\"SEM (standard error of mean):   \",SEM)\n",
    "print(\"DoF(degree of freedom):         \",DoF)\n",
    "print(\"hypo_mean (hypothetical mean):  \",hypo_mean)"
   ]
  },
  {
   "cell_type": "markdown",
   "metadata": {},
   "source": [
    "The null hypothesis is that the true population mean is 37 degree C."
   ]
  },
  {
   "cell_type": "code",
   "execution_count": 29,
   "metadata": {},
   "outputs": [
    {
     "data": {
      "text/plain": [
       "(-5.4548232923642752, 4.902157014107954e-08)"
      ]
     },
     "execution_count": 29,
     "metadata": {},
     "output_type": "execute_result"
    }
   ],
   "source": [
    "# Two-sided one sample Z-test for mean\n",
    "wstats.ztest(df.temperature,value = 37)"
   ]
  },
  {
   "cell_type": "code",
   "execution_count": 30,
   "metadata": {},
   "outputs": [
    {
     "data": {
      "text/plain": [
       "Ttest_1sampResult(statistic=-5.4548232923642752, pvalue=2.4106320415588179e-07)"
      ]
     },
     "execution_count": 30,
     "metadata": {},
     "output_type": "execute_result"
    }
   ],
   "source": [
    "# Two-sided one sample T-test for mean\n",
    "stats.ttest_1samp(df.temperature, hypo_mean)"
   ]
  },
  {
   "cell_type": "markdown",
   "metadata": {},
   "source": [
    "Conclusion:\n",
    "\n",
    "Z-test and T-test all produced a very low p-value (very small difference) which implies 37 degree C is not\n",
    "the mean normal body temperature. \n",
    "The reason why t-statistic and z-statistic produce almost same p-value is that when sample size is big, the T-distribution is very close to normal-distribution."
   ]
  },
  {
   "cell_type": "code",
   "execution_count": 31,
   "metadata": {},
   "outputs": [
    {
     "data": {
      "image/png": "[encoded data removed]",
      "text/plain": [
       "<matplotlib.figure.Figure at 0x1a12399160>"
      ]
     },
     "metadata": {},
     "output_type": "display_data"
    }
   ],
   "source": [
    "# Graphical validation\n",
    "xs = np.linspace(36.85,37.15,1000)\n",
    "_ = plt.plot(xs, stats.t.pdf(xs, df=DoF, loc=hypo_mean, scale=SEM), 'k', label=\"T-Distribution PDF\")\n",
    "_ = plt.plot(xs, stats.norm.pdf(xs, loc=hypo_mean, scale=SEM),'r-.', label=\"Normal PDF\")\n",
    "_ = plt.legend(loc='best')\n",
    "plt.show()"
   ]
  },
  {
   "cell_type": "markdown",
   "metadata": {
    "collapsed": true
   },
   "source": [
    "____"
   ]
  },
  {
   "cell_type": "markdown",
   "metadata": {},
   "source": [
    "We should be careful when the sample size is small, this is because when the sample size is small, the sampling distribution may not be normal. \n",
    "\n",
    "__ Q4: Draw a small sample of size 10 from the data and repeat both tests. __"
   ]
  },
  {
   "cell_type": "code",
   "execution_count": 12,
   "metadata": {
    "collapsed": true
   },
   "outputs": [],
   "source": [
    "# Draw a small sample of size 10 from the data.\n",
    "df_small = np.random.choice(df.temperature,size = 10)"
   ]
  },
  {
   "cell_type": "code",
   "execution_count": 13,
   "metadata": {},
   "outputs": [
    {
     "data": {
      "text/plain": [
       "(-1.2904782426693671, 0.19688466131149995)"
      ]
     },
     "execution_count": 13,
     "metadata": {},
     "output_type": "execute_result"
    }
   ],
   "source": [
    "# Z test:\n",
    "wstats.ztest(df_small,value=37)"
   ]
  },
  {
   "cell_type": "code",
   "execution_count": 14,
   "metadata": {},
   "outputs": [
    {
     "data": {
      "text/plain": [
       "Ttest_1sampResult(statistic=-1.2904782426693668, pvalue=0.22905017004892228)"
      ]
     },
     "execution_count": 14,
     "metadata": {},
     "output_type": "execute_result"
    }
   ],
   "source": [
    "# T test:\n",
    "stats.ttest_1samp(df_small, popmean=37)"
   ]
  },
  {
   "cell_type": "code",
   "execution_count": 15,
   "metadata": {},
   "outputs": [
    {
     "data": {
      "image/png": "[encoded data removed]",
      "text/plain": [
       "<matplotlib.figure.Figure at 0x1a12440ac8>"
      ]
     },
     "metadata": {},
     "output_type": "display_data"
    }
   ],
   "source": [
    "x = np.linspace(36.5,37.5,1000)\n",
    "\n",
    "_ = plt.plot(x, stats.t.pdf(x, df=9, loc=hypo_mean, scale= 0.12), 'k', label=\"T-Distribution PDF\")\n",
    "_ = plt.plot(x, stats.norm.pdf(x, loc=hypo_mean, scale= 0.12),'r-.', label=\"Normal PDF\")\n",
    "_ = plt.legend(loc='best')\n",
    "plt.show()"
   ]
  },
  {
   "cell_type": "markdown",
   "metadata": {},
   "source": [
    "For a small sample size, the p-value generated by t test and z test is significantly different. This is because when the sample size is small, the sampling distribution of mean could be best described as a T-distribution which is not close to normal distribution. As we notice, the p-value from t-statistic is bigger, that's becasue the tail of the T-distribution have thicker tails than the normal distribution.\n",
    "\n",
    "This comparison shows that T-test is more appropriate when sample size is small. "
   ]
  },
  {
   "cell_type": "markdown",
   "metadata": {
    "collapsed": true
   },
   "source": [
    "_______"
   ]
  },
  {
   "cell_type": "markdown",
   "metadata": {},
   "source": [
    "If 37 degree C is not the true population mean of body temperature then,\n",
    "\n",
    "__ Q5: At what temperature should we consider someone's temperature to be \"abnormal\" ? __\n",
    "\n",
    "Another way to interprete the question could be what is the normal range of body temperature. This can be answered by using confidence interval.\n",
    "\n",
    "Assume 95% confidence interval is normal range of body temperature. Let's calculate the confidence interval and margin of error."
   ]
  },
  {
   "cell_type": "code",
   "execution_count": 66,
   "metadata": {},
   "outputs": [
    {
     "name": "stdout",
     "output_type": "stream",
     "text": [
      "The normal range of body temperature is from 36.01 to 37.60\n",
      "Margin of erro is 0.80.\n"
     ]
    }
   ],
   "source": [
    "low,high = stats.norm.interval(0.95,loc=df.temperature.mean(),scale=df.temperature.std())\n",
    "MoE = (high-low)/2\n",
    "print(\"The normal range of body temperature is from %.2f to %.2f\"%(low,high))\n",
    "print(\"Margin of erro is %.2f.\"%MoE)"
   ]
  },
  {
   "cell_type": "markdown",
   "metadata": {},
   "source": [
    "_____"
   ]
  },
  {
   "cell_type": "markdown",
   "metadata": {},
   "source": [
    "Does the normal body temperature range apply to both male and female? or should we use different sets of normal body temperature range when we treat different gender. \n",
    "\n",
    "__ Q6: Is there a significant difference between males and females in normal temperature? __\n",
    "\n",
    "The null hypothesis is that there's no significant difference between males and females in normal temperature which equals to say this two group belong to a same sampling distribution of mean. \n",
    "The significance level is set to 5% beforehand. "
   ]
  },
  {
   "cell_type": "code",
   "execution_count": 32,
   "metadata": {
    "collapsed": true
   },
   "outputs": [],
   "source": [
    "male = df[df.gender == 'M']"
   ]
  },
  {
   "cell_type": "code",
   "execution_count": 36,
   "metadata": {
    "collapsed": true
   },
   "outputs": [],
   "source": [
    "femal = df[df.gender == 'F']"
   ]
  },
  {
   "cell_type": "code",
   "execution_count": 39,
   "metadata": {},
   "outputs": [
    {
     "data": {
      "text/html": [
       "<div>\n",
       "<style>\n",
       "    .dataframe thead tr:only-child th {\n",
       "        text-align: right;\n",
       "    }\n",
       "\n",
       "    .dataframe thead th {\n",
       "        text-align: left;\n",
       "    }\n",
       "\n",
       "    .dataframe tbody tr th {\n",
       "        vertical-align: top;\n",
       "    }\n",
       "</style>\n",
       "<table border=\"1\" class=\"dataframe\">\n",
       "  <thead>\n",
       "    <tr style=\"text-align: right;\">\n",
       "      <th></th>\n",
       "      <th>temperature</th>\n",
       "      <th>heart_rate</th>\n",
       "    </tr>\n",
       "  </thead>\n",
       "  <tbody>\n",
       "    <tr>\n",
       "      <th>count</th>\n",
       "      <td>65.000000</td>\n",
       "      <td>65.000000</td>\n",
       "    </tr>\n",
       "    <tr>\n",
       "      <th>mean</th>\n",
       "      <td>36.724786</td>\n",
       "      <td>73.369231</td>\n",
       "    </tr>\n",
       "    <tr>\n",
       "      <th>std</th>\n",
       "      <td>0.388198</td>\n",
       "      <td>5.875184</td>\n",
       "    </tr>\n",
       "    <tr>\n",
       "      <th>min</th>\n",
       "      <td>35.722222</td>\n",
       "      <td>58.000000</td>\n",
       "    </tr>\n",
       "    <tr>\n",
       "      <th>25%</th>\n",
       "      <td>36.444444</td>\n",
       "      <td>70.000000</td>\n",
       "    </tr>\n",
       "    <tr>\n",
       "      <th>50%</th>\n",
       "      <td>36.722222</td>\n",
       "      <td>73.000000</td>\n",
       "    </tr>\n",
       "    <tr>\n",
       "      <th>75%</th>\n",
       "      <td>37.000000</td>\n",
       "      <td>78.000000</td>\n",
       "    </tr>\n",
       "    <tr>\n",
       "      <th>max</th>\n",
       "      <td>37.500000</td>\n",
       "      <td>86.000000</td>\n",
       "    </tr>\n",
       "  </tbody>\n",
       "</table>\n",
       "</div>"
      ],
      "text/plain": [
       "       temperature  heart_rate\n",
       "count    65.000000   65.000000\n",
       "mean     36.724786   73.369231\n",
       "std       0.388198    5.875184\n",
       "min      35.722222   58.000000\n",
       "25%      36.444444   70.000000\n",
       "50%      36.722222   73.000000\n",
       "75%      37.000000   78.000000\n",
       "max      37.500000   86.000000"
      ]
     },
     "execution_count": 39,
     "metadata": {},
     "output_type": "execute_result"
    }
   ],
   "source": [
    "male.describe()"
   ]
  },
  {
   "cell_type": "code",
   "execution_count": 40,
   "metadata": {},
   "outputs": [
    {
     "data": {
      "text/html": [
       "<div>\n",
       "<style>\n",
       "    .dataframe thead tr:only-child th {\n",
       "        text-align: right;\n",
       "    }\n",
       "\n",
       "    .dataframe thead th {\n",
       "        text-align: left;\n",
       "    }\n",
       "\n",
       "    .dataframe tbody tr th {\n",
       "        vertical-align: top;\n",
       "    }\n",
       "</style>\n",
       "<table border=\"1\" class=\"dataframe\">\n",
       "  <thead>\n",
       "    <tr style=\"text-align: right;\">\n",
       "      <th></th>\n",
       "      <th>temperature</th>\n",
       "      <th>heart_rate</th>\n",
       "    </tr>\n",
       "  </thead>\n",
       "  <tbody>\n",
       "    <tr>\n",
       "      <th>count</th>\n",
       "      <td>65.000000</td>\n",
       "      <td>65.000000</td>\n",
       "    </tr>\n",
       "    <tr>\n",
       "      <th>mean</th>\n",
       "      <td>36.885470</td>\n",
       "      <td>74.153846</td>\n",
       "    </tr>\n",
       "    <tr>\n",
       "      <th>std</th>\n",
       "      <td>0.413049</td>\n",
       "      <td>8.105227</td>\n",
       "    </tr>\n",
       "    <tr>\n",
       "      <th>min</th>\n",
       "      <td>35.777778</td>\n",
       "      <td>57.000000</td>\n",
       "    </tr>\n",
       "    <tr>\n",
       "      <th>25%</th>\n",
       "      <td>36.666667</td>\n",
       "      <td>68.000000</td>\n",
       "    </tr>\n",
       "    <tr>\n",
       "      <th>50%</th>\n",
       "      <td>36.888889</td>\n",
       "      <td>76.000000</td>\n",
       "    </tr>\n",
       "    <tr>\n",
       "      <th>75%</th>\n",
       "      <td>37.111111</td>\n",
       "      <td>80.000000</td>\n",
       "    </tr>\n",
       "    <tr>\n",
       "      <th>max</th>\n",
       "      <td>38.222222</td>\n",
       "      <td>89.000000</td>\n",
       "    </tr>\n",
       "  </tbody>\n",
       "</table>\n",
       "</div>"
      ],
      "text/plain": [
       "       temperature  heart_rate\n",
       "count    65.000000   65.000000\n",
       "mean     36.885470   74.153846\n",
       "std       0.413049    8.105227\n",
       "min      35.777778   57.000000\n",
       "25%      36.666667   68.000000\n",
       "50%      36.888889   76.000000\n",
       "75%      37.111111   80.000000\n",
       "max      38.222222   89.000000"
      ]
     },
     "execution_count": 40,
     "metadata": {},
     "output_type": "execute_result"
    }
   ],
   "source": [
    "femal.describe()"
   ]
  },
  {
   "cell_type": "markdown",
   "metadata": {},
   "source": [
    "The male sample size and femal sample size are both 65 which is large (larger than 30), so the sampling distribution is normal. It's okay to use either two sample z-test or t-test for difference of mean (two-sided). \n",
    "\n",
    "The two sample has different standard deviation and the observed difference of mean is (36.89-36.72)=0.17, let's see what is the probability that this two sample would be this far apart if the two groups tested are actually identical. "
   ]
  },
  {
   "cell_type": "code",
   "execution_count": 65,
   "metadata": {},
   "outputs": [
    {
     "data": {
      "text/plain": [
       "(-2.2854345381655987, 0.022287360760658233)"
      ]
     },
     "execution_count": 65,
     "metadata": {},
     "output_type": "execute_result"
    }
   ],
   "source": [
    "# two-sided two sample z-test for identical distribution\n",
    "wstats.CompareMeans.from_data(male.temperature,femal.temperature).ztest_ind(usevar='unequal')"
   ]
  },
  {
   "cell_type": "code",
   "execution_count": 48,
   "metadata": {},
   "outputs": [
    {
     "data": {
      "text/plain": [
       "Ttest_indResult(statistic=-2.2854345381655987, pvalue=0.023938264182934949)"
      ]
     },
     "execution_count": 48,
     "metadata": {},
     "output_type": "execute_result"
    }
   ],
   "source": [
    "# two-sided two sample t-test for identical distribution\n",
    "stats.ttest_ind(a=male.temperature,b=femal.temperature,equal_var=False)"
   ]
  },
  {
   "cell_type": "markdown",
   "metadata": {},
   "source": [
    "The p-value is less than 5% so the null hypothesis is rejected.\n",
    "The conclusion is that males and females have significant difference in normal temperature. "
   ]
  }
 ],
 "metadata": {
  "kernelspec": {
   "display_name": "Python 3",
   "language": "python",
   "name": "python3"
  },
  "language_info": {
   "codemirror_mode": {
    "name": "ipython",
    "version": 3
   },
   "file_extension": ".py",
   "mimetype": "text/x-python",
   "name": "python",
   "nbconvert_exporter": "python",
   "pygments_lexer": "ipython3",
   "version": "3.6.2"
  }
 },
 "nbformat": 4,
 "nbformat_minor": 1
}
